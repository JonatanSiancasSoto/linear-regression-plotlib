{
 "cells": [
  {
   "cell_type": "markdown",
   "metadata": {},
   "source": [
    "# Problema de Regresion Simple con 2 Variables"
   ]
  },
  {
   "cell_type": "markdown",
   "metadata": {},
   "source": [
    "Aprende regresion lineal es un claro ejemplo que "
   ]
  },
  {
   "cell_type": "markdown",
   "metadata": {},
   "source": [
    "### Librerias"
   ]
  },
  {
   "cell_type": "code",
   "execution_count": 86,
   "metadata": {},
   "outputs": [],
   "source": [
    "import pandas as pd\n",
    "import numpy as np\n",
    "import matplotlib.pyplot as plt\n",
    "from sklearn.model_selection import train_test_split\n",
    "from sklearn.linear_model import LinearRegression\n",
    "from sklearn.preprocessing import LabelEncoder"
   ]
  },
  {
   "cell_type": "code",
   "execution_count": 2,
   "metadata": {},
   "outputs": [],
   "source": [
    "df = pd.read_csv(\"salary.csv\")"
   ]
  },
  {
   "cell_type": "code",
   "execution_count": 84,
   "metadata": {},
   "outputs": [
    {
     "data": {
      "text/html": [
       "<div>\n",
       "<style scoped>\n",
       "    .dataframe tbody tr th:only-of-type {\n",
       "        vertical-align: middle;\n",
       "    }\n",
       "\n",
       "    .dataframe tbody tr th {\n",
       "        vertical-align: top;\n",
       "    }\n",
       "\n",
       "    .dataframe thead th {\n",
       "        text-align: right;\n",
       "    }\n",
       "</style>\n",
       "<table border=\"1\" class=\"dataframe\">\n",
       "  <thead>\n",
       "    <tr style=\"text-align: right;\">\n",
       "      <th></th>\n",
       "      <th>Aexperiencia</th>\n",
       "      <th>Salario</th>\n",
       "    </tr>\n",
       "  </thead>\n",
       "  <tbody>\n",
       "    <tr>\n",
       "      <th>0</th>\n",
       "      <td>10.0</td>\n",
       "      <td>42500</td>\n",
       "    </tr>\n",
       "    <tr>\n",
       "      <th>1</th>\n",
       "      <td>8.0</td>\n",
       "      <td>36302</td>\n",
       "    </tr>\n",
       "    <tr>\n",
       "      <th>2</th>\n",
       "      <td>5.4</td>\n",
       "      <td>35000</td>\n",
       "    </tr>\n",
       "    <tr>\n",
       "      <th>3</th>\n",
       "      <td>2.5</td>\n",
       "      <td>18103</td>\n",
       "    </tr>\n",
       "    <tr>\n",
       "      <th>4</th>\n",
       "      <td>1.0</td>\n",
       "      <td>15000</td>\n",
       "    </tr>\n",
       "  </tbody>\n",
       "</table>\n",
       "</div>"
      ],
      "text/plain": [
       "   Aexperiencia  Salario\n",
       "0          10.0    42500\n",
       "1           8.0    36302\n",
       "2           5.4    35000\n",
       "3           2.5    18103\n",
       "4           1.0    15000"
      ]
     },
     "execution_count": 84,
     "metadata": {},
     "output_type": "execute_result"
    }
   ],
   "source": [
    "df.head()"
   ]
  },
  {
   "cell_type": "code",
   "execution_count": 4,
   "metadata": {},
   "outputs": [
    {
     "data": {
      "text/plain": [
       "(30, 2)"
      ]
     },
     "execution_count": 4,
     "metadata": {},
     "output_type": "execute_result"
    }
   ],
   "source": [
    "df.shape"
   ]
  },
  {
   "cell_type": "code",
   "execution_count": 27,
   "metadata": {},
   "outputs": [],
   "source": [
    "x = df.iloc[:,:-1].values\n",
    "#x"
   ]
  },
  {
   "cell_type": "code",
   "execution_count": 6,
   "metadata": {},
   "outputs": [
    {
     "data": {
      "text/plain": [
       "array([42500, 36302, 35000, 18103, 15000, 37000, 26300, 35201, 18302,\n",
       "       42000, 27000, 35201, 19201, 28000, 17000, 33402, 19000, 18200,\n",
       "       19000, 17301, 28000, 20000, 27900, 17500, 40000, 42500, 18300,\n",
       "       40000, 25000, 15000], dtype=int64)"
      ]
     },
     "execution_count": 6,
     "metadata": {},
     "output_type": "execute_result"
    }
   ],
   "source": [
    "y = df.iloc[:,1].values\n",
    "y"
   ]
  },
  {
   "cell_type": "code",
   "execution_count": 7,
   "metadata": {},
   "outputs": [],
   "source": [
    "X_train, X_test, Y_train, Y_test = train_test_split(x,y,test_size = 0.2 , random_state = 14 )"
   ]
  },
  {
   "cell_type": "code",
   "execution_count": 8,
   "metadata": {},
   "outputs": [
    {
     "data": {
      "text/plain": [
       "(24, 1)"
      ]
     },
     "execution_count": 8,
     "metadata": {},
     "output_type": "execute_result"
    }
   ],
   "source": [
    "X_train.shape"
   ]
  },
  {
   "cell_type": "code",
   "execution_count": 9,
   "metadata": {},
   "outputs": [
    {
     "data": {
      "text/plain": [
       "(24,)"
      ]
     },
     "execution_count": 9,
     "metadata": {},
     "output_type": "execute_result"
    }
   ],
   "source": [
    "Y_train.shape"
   ]
  },
  {
   "cell_type": "markdown",
   "metadata": {},
   "source": [
    "Instanciar modelo"
   ]
  },
  {
   "cell_type": "code",
   "execution_count": 10,
   "metadata": {},
   "outputs": [],
   "source": [
    "model = LinearRegression()"
   ]
  },
  {
   "cell_type": "code",
   "execution_count": 11,
   "metadata": {},
   "outputs": [
    {
     "data": {
      "text/plain": [
       "LinearRegression()"
      ]
     },
     "execution_count": 11,
     "metadata": {},
     "output_type": "execute_result"
    }
   ],
   "source": [
    "model.fit(X_train,Y_train)"
   ]
  },
  {
   "cell_type": "markdown",
   "metadata": {},
   "source": [
    "### Visualizar Resultados\n",
    "\n",
    "    - Convencionalmente se utiliza Matplotlib o seaborn para plotear data\n",
    "    - Para Futuros casos utilizare plotly que cuenta con una interfaz mas visual"
   ]
  },
  {
   "cell_type": "markdown",
   "metadata": {},
   "source": [
    "##### Matplotlib"
   ]
  },
  {
   "cell_type": "code",
   "execution_count": 13,
   "metadata": {
    "scrolled": true
   },
   "outputs": [
    {
     "data": {
      "image/png": "[encoded data removed]",
      "text/plain": [
       "<Figure size 432x288 with 1 Axes>"
      ]
     },
     "metadata": {
      "needs_background": "light"
     },
     "output_type": "display_data"
    }
   ],
   "source": [
    "plt.scatter(X_train,Y_train, color = 'blue')\n",
    "plt.plot(X_train, model.predict(X_train), color = 'black')\n",
    "plt.title(\"Salario contra experiencia\")\n",
    "plt.xlabel(\"Experiencia\")\n",
    "plt.ylabel(\"Salario\")\n",
    "plt.grid()\n",
    "plt.show()"
   ]
  },
  {
   "cell_type": "markdown",
   "metadata": {},
   "source": [
    "###### Plotly"
   ]
  },
  {
   "cell_type": "code",
   "execution_count": 12,
   "metadata": {},
   "outputs": [],
   "source": [
    "import plotly.graph_objects as go"
   ]
  },
  {
   "cell_type": "code",
   "execution_count": 78,
   "metadata": {},
   "outputs": [],
   "source": [
    "x_range = df.iloc[:,:-1].values.squeeze()\n",
    "y_range = model.predict(x_range.reshape(-1,1))"
   ]
  },
  {
   "cell_type": "code",
   "execution_count": 79,
   "metadata": {},
   "outputs": [
    {
     "data": {
      "application/vnd.plotly.v1+json": {
       "config": {
        "plotlyServerURL": "https://plot.ly"
       },
       "data": [
        {
         "mode": "markers",
         "name": "train",
         "type": "scatter",
         "x": [
          5,
          10,
          10,
          8,
          3.4,
          4,
          2,
          2,
          3.2,
          2,
          1,
          10,
          1,
          5,
          2,
          3,
          2.1,
          4,
          4,
          6,
          5.3,
          3,
          9.2,
          7
         ],
         "y": [
          28000,
          40000,
          42000,
          37000,
          20000,
          25000,
          18200,
          17000,
          18300,
          17301,
          15000,
          42500,
          15000,
          28000,
          18302,
          19000,
          17500,
          27000,
          26300,
          35201,
          27900,
          19201,
          40000,
          35201
         ]
        },
        {
         "mode": "markers",
         "name": "test",
         "type": "scatter",
         "x": [
          5.4,
          3,
          5,
          2.5,
          10,
          8
         ],
         "y": [
          35000,
          19000,
          33402,
          18103,
          42500,
          36302
         ]
        },
        {
         "mode": "lines",
         "name": "predict",
         "type": "scatter",
         "x": [
          10,
          8,
          5.4,
          2.5,
          1,
          8,
          4,
          6,
          2,
          10,
          4,
          7,
          3,
          5,
          2,
          5,
          3,
          2,
          3,
          2,
          5,
          3.4,
          5.3,
          2.1,
          9.2,
          10,
          3.2,
          10,
          4,
          1
         ],
         "y": [
          42849.784546153,
          36598.003182965644,
          28470.687410822087,
          19405.604434200417,
          14716.768411809902,
          36598.003182965644,
          24094.440456590935,
          30346.221819778293,
          17842.65909340358,
          42849.784546153,
          24094.440456590935,
          33472.112501371965,
          20968.549774997256,
          27220.331138184614,
          17842.65909340358,
          27220.331138184614,
          20968.549774997256,
          17842.65909340358,
          20968.549774997256,
          17842.65909340358,
          27220.331138184614,
          22218.90604763473,
          28158.098342662714,
          18155.248161562948,
          40349.072000878055,
          42849.784546153,
          21593.727911315997,
          42849.784546153,
          24094.440456590935,
          14716.768411809902
         ]
        }
       ],
       "layout": {
        "template": {
         "data": {
          "bar": [
           {
            "error_x": {
             "color": "#2a3f5f"
            },
            "error_y": {
             "color": "#2a3f5f"
            },
            "marker": {
             "line": {
              "color": "#E5ECF6",
              "width": 0.5
             }
            },
            "type": "bar"
           }
          ],
          "barpolar": [
           {
            "marker": {
             "line": {
              "color": "#E5ECF6",
              "width": 0.5
             }
            },
            "type": "barpolar"
           }
          ],
          "carpet": [
           {
            "aaxis": {
             "endlinecolor": "#2a3f5f",
             "gridcolor": "white",
             "linecolor": "white",
             "minorgridcolor": "white",
             "startlinecolor": "#2a3f5f"
            },
            "baxis": {
             "endlinecolor": "#2a3f5f",
             "gridcolor": "white",
             "linecolor": "white",
             "minorgridcolor": "white",
             "startlinecolor": "#2a3f5f"
            },
            "type": "carpet"
           }
          ],
          "choropleth": [
           {
            "colorbar": {
             "outlinewidth": 0,
             "ticks": ""
            },
            "type": "choropleth"
           }
          ],
          "contour": [
           {
            "colorbar": {
             "outlinewidth": 0,
             "ticks": ""
            },
            "colorscale": [
             [
              0,
              "#0d0887"
             ],
             [
              0.1111111111111111,
              "#46039f"
             ],
             [
              0.2222222222222222,
              "#7201a8"
             ],
             [
              0.3333333333333333,
              "#9c179e"
             ],
             [
              0.4444444444444444,
              "#bd3786"
             ],
             [
              0.5555555555555556,
              "#d8576b"
             ],
             [
              0.6666666666666666,
              "#ed7953"
             ],
             [
              0.7777777777777778,
              "#fb9f3a"
             ],
             [
              0.8888888888888888,
              "#fdca26"
             ],
             [
              1,
              "#f0f921"
             ]
            ],
            "type": "contour"
           }
          ],
          "contourcarpet": [
           {
            "colorbar": {
             "outlinewidth": 0,
             "ticks": ""
            },
            "type": "contourcarpet"
           }
          ],
          "heatmap": [
           {
            "colorbar": {
             "outlinewidth": 0,
             "ticks": ""
            },
            "colorscale": [
             [
              0,
              "#0d0887"
             ],
             [
              0.1111111111111111,
              "#46039f"
             ],
             [
              0.2222222222222222,
              "#7201a8"
             ],
             [
              0.3333333333333333,
              "#9c179e"
             ],
             [
              0.4444444444444444,
              "#bd3786"
             ],
             [
              0.5555555555555556,
              "#d8576b"
             ],
             [
              0.6666666666666666,
              "#ed7953"
             ],
             [
              0.7777777777777778,
              "#fb9f3a"
             ],
             [
              0.8888888888888888,
              "#fdca26"
             ],
             [
              1,
              "#f0f921"
             ]
            ],
            "type": "heatmap"
           }
          ],
          "heatmapgl": [
           {
            "colorbar": {
             "outlinewidth": 0,
             "ticks": ""
            },
            "colorscale": [
             [
              0,
              "#0d0887"
             ],
             [
              0.1111111111111111,
              "#46039f"
             ],
             [
              0.2222222222222222,
              "#7201a8"
             ],
             [
              0.3333333333333333,
              "#9c179e"
             ],
             [
              0.4444444444444444,
              "#bd3786"
             ],
             [
              0.5555555555555556,
              "#d8576b"
             ],
             [
              0.6666666666666666,
              "#ed7953"
             ],
             [
              0.7777777777777778,
              "#fb9f3a"
             ],
             [
              0.8888888888888888,
              "#fdca26"
             ],
             [
              1,
              "#f0f921"
             ]
            ],
            "type": "heatmapgl"
           }
          ],
          "histogram": [
           {
            "marker": {
             "colorbar": {
              "outlinewidth": 0,
              "ticks": ""
             }
            },
            "type": "histogram"
           }
          ],
          "histogram2d": [
           {
            "colorbar": {
             "outlinewidth": 0,
             "ticks": ""
            },
            "colorscale": [
             [
              0,
              "#0d0887"
             ],
             [
              0.1111111111111111,
              "#46039f"
             ],
             [
              0.2222222222222222,
              "#7201a8"
             ],
             [
              0.3333333333333333,
              "#9c179e"
             ],
             [
              0.4444444444444444,
              "#bd3786"
             ],
             [
              0.5555555555555556,
              "#d8576b"
             ],
             [
              0.6666666666666666,
              "#ed7953"
             ],
             [
              0.7777777777777778,
              "#fb9f3a"
             ],
             [
              0.8888888888888888,
              "#fdca26"
             ],
             [
              1,
              "#f0f921"
             ]
            ],
            "type": "histogram2d"
           }
          ],
          "histogram2dcontour": [
           {
            "colorbar": {
             "outlinewidth": 0,
             "ticks": ""
            },
            "colorscale": [
             [
              0,
              "#0d0887"
             ],
             [
              0.1111111111111111,
              "#46039f"
             ],
             [
              0.2222222222222222,
              "#7201a8"
             ],
             [
              0.3333333333333333,
              "#9c179e"
             ],
             [
              0.4444444444444444,
              "#bd3786"
             ],
             [
              0.5555555555555556,
              "#d8576b"
             ],
             [
              0.6666666666666666,
              "#ed7953"
             ],
             [
              0.7777777777777778,
              "#fb9f3a"
             ],
             [
              0.8888888888888888,
              "#fdca26"
             ],
             [
              1,
              "#f0f921"
             ]
            ],
            "type": "histogram2dcontour"
           }
          ],
          "mesh3d": [
           {
            "colorbar": {
             "outlinewidth": 0,
             "ticks": ""
            },
            "type": "mesh3d"
           }
          ],
          "parcoords": [
           {
            "line": {
             "colorbar": {
              "outlinewidth": 0,
              "ticks": ""
             }
            },
            "type": "parcoords"
           }
          ],
          "pie": [
           {
            "automargin": true,
            "type": "pie"
           }
          ],
          "scatter": [
           {
            "marker": {
             "colorbar": {
              "outlinewidth": 0,
              "ticks": ""
             }
            },
            "type": "scatter"
           }
          ],
          "scatter3d": [
           {
            "line": {
             "colorbar": {
              "outlinewidth": 0,
              "ticks": ""
             }
            },
            "marker": {
             "colorbar": {
              "outlinewidth": 0,
              "ticks": ""
             }
            },
            "type": "scatter3d"
           }
          ],
          "scattercarpet": [
           {
            "marker": {
             "colorbar": {
              "outlinewidth": 0,
              "ticks": ""
             }
            },
            "type": "scattercarpet"
           }
          ],
          "scattergeo": [
           {
            "marker": {
             "colorbar": {
              "outlinewidth": 0,
              "ticks": ""
             }
            },
            "type": "scattergeo"
           }
          ],
          "scattergl": [
           {
            "marker": {
             "colorbar": {
              "outlinewidth": 0,
              "ticks": ""
             }
            },
            "type": "scattergl"
           }
          ],
          "scattermapbox": [
           {
            "marker": {
             "colorbar": {
              "outlinewidth": 0,
              "ticks": ""
             }
            },
            "type": "scattermapbox"
           }
          ],
          "scatterpolar": [
           {
            "marker": {
             "colorbar": {
              "outlinewidth": 0,
              "ticks": ""
             }
            },
            "type": "scatterpolar"
           }
          ],
          "scatterpolargl": [
           {
            "marker": {
             "colorbar": {
              "outlinewidth": 0,
              "ticks": ""
             }
            },
            "type": "scatterpolargl"
           }
          ],
          "scatterternary": [
           {
            "marker": {
             "colorbar": {
              "outlinewidth": 0,
              "ticks": ""
             }
            },
            "type": "scatterternary"
           }
          ],
          "surface": [
           {
            "colorbar": {
             "outlinewidth": 0,
             "ticks": ""
            },
            "colorscale": [
             [
              0,
              "#0d0887"
             ],
             [
              0.1111111111111111,
              "#46039f"
             ],
             [
              0.2222222222222222,
              "#7201a8"
             ],
             [
              0.3333333333333333,
              "#9c179e"
             ],
             [
              0.4444444444444444,
              "#bd3786"
             ],
             [
              0.5555555555555556,
              "#d8576b"
             ],
             [
              0.6666666666666666,
              "#ed7953"
             ],
             [
              0.7777777777777778,
              "#fb9f3a"
             ],
             [
              0.8888888888888888,
              "#fdca26"
             ],
             [
              1,
              "#f0f921"
             ]
            ],
            "type": "surface"
           }
          ],
          "table": [
           {
            "cells": {
             "fill": {
              "color": "#EBF0F8"
             },
             "line": {
              "color": "white"
             }
            },
            "header": {
             "fill": {
              "color": "#C8D4E3"
             },
             "line": {
              "color": "white"
             }
            },
            "type": "table"
           }
          ]
         },
         "layout": {
          "annotationdefaults": {
           "arrowcolor": "#2a3f5f",
           "arrowhead": 0,
           "arrowwidth": 1
          },
          "coloraxis": {
           "colorbar": {
            "outlinewidth": 0,
            "ticks": ""
           }
          },
          "colorscale": {
           "diverging": [
            [
             0,
             "#8e0152"
            ],
            [
             0.1,
             "#c51b7d"
            ],
            [
             0.2,
             "#de77ae"
            ],
            [
             0.3,
             "#f1b6da"
            ],
            [
             0.4,
             "#fde0ef"
            ],
            [
             0.5,
             "#f7f7f7"
            ],
            [
             0.6,
             "#e6f5d0"
            ],
            [
             0.7,
             "#b8e186"
            ],
            [
             0.8,
             "#7fbc41"
            ],
            [
             0.9,
             "#4d9221"
            ],
            [
             1,
             "#276419"
            ]
           ],
           "sequential": [
            [
             0,
             "#0d0887"
            ],
            [
             0.1111111111111111,
             "#46039f"
            ],
            [
             0.2222222222222222,
             "#7201a8"
            ],
            [
             0.3333333333333333,
             "#9c179e"
            ],
            [
             0.4444444444444444,
             "#bd3786"
            ],
            [
             0.5555555555555556,
             "#d8576b"
            ],
            [
             0.6666666666666666,
             "#ed7953"
            ],
            [
             0.7777777777777778,
             "#fb9f3a"
            ],
            [
             0.8888888888888888,
             "#fdca26"
            ],
            [
             1,
             "#f0f921"
            ]
           ],
           "sequentialminus": [
            [
             0,
             "#0d0887"
            ],
            [
             0.1111111111111111,
             "#46039f"
            ],
            [
             0.2222222222222222,
             "#7201a8"
            ],
            [
             0.3333333333333333,
             "#9c179e"
            ],
            [
             0.4444444444444444,
             "#bd3786"
            ],
            [
             0.5555555555555556,
             "#d8576b"
            ],
            [
             0.6666666666666666,
             "#ed7953"
            ],
            [
             0.7777777777777778,
             "#fb9f3a"
            ],
            [
             0.8888888888888888,
             "#fdca26"
            ],
            [
             1,
             "#f0f921"
            ]
           ]
          },
          "colorway": [
           "#636efa",
           "#EF553B",
           "#00cc96",
           "#ab63fa",
           "#FFA15A",
           "#19d3f3",
           "#FF6692",
           "#B6E880",
           "#FF97FF",
           "#FECB52"
          ],
          "font": {
           "color": "#2a3f5f"
          },
          "geo": {
           "bgcolor": "white",
           "lakecolor": "white",
           "landcolor": "#E5ECF6",
           "showlakes": true,
           "showland": true,
           "subunitcolor": "white"
          },
          "hoverlabel": {
           "align": "left"
          },
          "hovermode": "closest",
          "mapbox": {
           "style": "light"
          },
          "paper_bgcolor": "white",
          "plot_bgcolor": "#E5ECF6",
          "polar": {
           "angularaxis": {
            "gridcolor": "white",
            "linecolor": "white",
            "ticks": ""
           },
           "bgcolor": "#E5ECF6",
           "radialaxis": {
            "gridcolor": "white",
            "linecolor": "white",
            "ticks": ""
           }
          },
          "scene": {
           "xaxis": {
            "backgroundcolor": "#E5ECF6",
            "gridcolor": "white",
            "gridwidth": 2,
            "linecolor": "white",
            "showbackground": true,
            "ticks": "",
            "zerolinecolor": "white"
           },
           "yaxis": {
            "backgroundcolor": "#E5ECF6",
            "gridcolor": "white",
            "gridwidth": 2,
            "linecolor": "white",
            "showbackground": true,
            "ticks": "",
            "zerolinecolor": "white"
           },
           "zaxis": {
            "backgroundcolor": "#E5ECF6",
            "gridcolor": "white",
            "gridwidth": 2,
            "linecolor": "white",
            "showbackground": true,
            "ticks": "",
            "zerolinecolor": "white"
           }
          },
          "shapedefaults": {
           "line": {
            "color": "#2a3f5f"
           }
          },
          "ternary": {
           "aaxis": {
            "gridcolor": "white",
            "linecolor": "white",
            "ticks": ""
           },
           "baxis": {
            "gridcolor": "white",
            "linecolor": "white",
            "ticks": ""
           },
           "bgcolor": "#E5ECF6",
           "caxis": {
            "gridcolor": "white",
            "linecolor": "white",
            "ticks": ""
           }
          },
          "title": {
           "x": 0.05
          },
          "xaxis": {
           "automargin": true,
           "gridcolor": "white",
           "linecolor": "white",
           "ticks": "",
           "title": {
            "standoff": 15
           },
           "zerolinecolor": "white",
           "zerolinewidth": 2
          },
          "yaxis": {
           "automargin": true,
           "gridcolor": "white",
           "linecolor": "white",
           "ticks": "",
           "title": {
            "standoff": 15
           },
           "zerolinecolor": "white",
           "zerolinewidth": 2
          }
         }
        }
       }
      },
      "text/html": [
       "<div>                            <div id=\"2c9056cb-4b15-4e0f-b4d5-eca51ae1a08a\" class=\"plotly-graph-div\" style=\"height:525px; width:100%;\"></div>            <script type=\"text/javascript\">                require([\"plotly\"], function(Plotly) {                    window.PLOTLYENV=window.PLOTLYENV || {};                                    if (document.getElementById(\"2c9056cb-4b15-4e0f-b4d5-eca51ae1a08a\")) {                    Plotly.newPlot(                        \"2c9056cb-4b15-4e0f-b4d5-eca51ae1a08a\",                        [{\"mode\": \"markers\", \"name\": \"train\", \"type\": \"scatter\", \"x\": [5.0, 10.0, 10.0, 8.0, 3.4, 4.0, 2.0, 2.0, 3.2, 2.0, 1.0, 10.0, 1.0, 5.0, 2.0, 3.0, 2.1, 4.0, 4.0, 6.0, 5.3, 3.0, 9.2, 7.0], \"y\": [28000, 40000, 42000, 37000, 20000, 25000, 18200, 17000, 18300, 17301, 15000, 42500, 15000, 28000, 18302, 19000, 17500, 27000, 26300, 35201, 27900, 19201, 40000, 35201]}, {\"mode\": \"markers\", \"name\": \"test\", \"type\": \"scatter\", \"x\": [5.4, 3.0, 5.0, 2.5, 10.0, 8.0], \"y\": [35000, 19000, 33402, 18103, 42500, 36302]}, {\"mode\": \"lines\", \"name\": \"predict\", \"type\": \"scatter\", \"x\": [10.0, 8.0, 5.4, 2.5, 1.0, 8.0, 4.0, 6.0, 2.0, 10.0, 4.0, 7.0, 3.0, 5.0, 2.0, 5.0, 3.0, 2.0, 3.0, 2.0, 5.0, 3.4, 5.3, 2.1, 9.2, 10.0, 3.2, 10.0, 4.0, 1.0], \"y\": [42849.784546153, 36598.003182965644, 28470.687410822087, 19405.604434200417, 14716.768411809902, 36598.003182965644, 24094.440456590935, 30346.221819778293, 17842.65909340358, 42849.784546153, 24094.440456590935, 33472.112501371965, 20968.549774997256, 27220.331138184614, 17842.65909340358, 27220.331138184614, 20968.549774997256, 17842.65909340358, 20968.549774997256, 17842.65909340358, 27220.331138184614, 22218.90604763473, 28158.098342662714, 18155.248161562948, 40349.072000878055, 42849.784546153, 21593.727911315997, 42849.784546153, 24094.440456590935, 14716.768411809902]}],                        {\"template\": {\"data\": {\"bar\": [{\"error_x\": {\"color\": \"#2a3f5f\"}, \"error_y\": {\"color\": \"#2a3f5f\"}, \"marker\": {\"line\": {\"color\": \"#E5ECF6\", \"width\": 0.5}}, \"type\": \"bar\"}], \"barpolar\": [{\"marker\": {\"line\": {\"color\": \"#E5ECF6\", \"width\": 0.5}}, \"type\": \"barpolar\"}], \"carpet\": [{\"aaxis\": {\"endlinecolor\": \"#2a3f5f\", \"gridcolor\": \"white\", \"linecolor\": \"white\", \"minorgridcolor\": \"white\", \"startlinecolor\": \"#2a3f5f\"}, \"baxis\": {\"endlinecolor\": \"#2a3f5f\", \"gridcolor\": \"white\", \"linecolor\": \"white\", \"minorgridcolor\": \"white\", \"startlinecolor\": \"#2a3f5f\"}, \"type\": \"carpet\"}], \"choropleth\": [{\"colorbar\": {\"outlinewidth\": 0, \"ticks\": \"\"}, \"type\": \"choropleth\"}], \"contour\": [{\"colorbar\": {\"outlinewidth\": 0, \"ticks\": \"\"}, \"colorscale\": [[0.0, \"#0d0887\"], [0.1111111111111111, \"#46039f\"], [0.2222222222222222, \"#7201a8\"], [0.3333333333333333, \"#9c179e\"], [0.4444444444444444, \"#bd3786\"], [0.5555555555555556, \"#d8576b\"], [0.6666666666666666, \"#ed7953\"], [0.7777777777777778, \"#fb9f3a\"], [0.8888888888888888, \"#fdca26\"], [1.0, \"#f0f921\"]], \"type\": \"contour\"}], \"contourcarpet\": [{\"colorbar\": {\"outlinewidth\": 0, \"ticks\": \"\"}, \"type\": \"contourcarpet\"}], \"heatmap\": [{\"colorbar\": {\"outlinewidth\": 0, \"ticks\": \"\"}, \"colorscale\": [[0.0, \"#0d0887\"], [0.1111111111111111, \"#46039f\"], [0.2222222222222222, \"#7201a8\"], [0.3333333333333333, \"#9c179e\"], [0.4444444444444444, \"#bd3786\"], [0.5555555555555556, \"#d8576b\"], [0.6666666666666666, \"#ed7953\"], [0.7777777777777778, \"#fb9f3a\"], [0.8888888888888888, \"#fdca26\"], [1.0, \"#f0f921\"]], \"type\": \"heatmap\"}], \"heatmapgl\": [{\"colorbar\": {\"outlinewidth\": 0, \"ticks\": \"\"}, \"colorscale\": [[0.0, \"#0d0887\"], [0.1111111111111111, \"#46039f\"], [0.2222222222222222, \"#7201a8\"], [0.3333333333333333, \"#9c179e\"], [0.4444444444444444, \"#bd3786\"], [0.5555555555555556, \"#d8576b\"], [0.6666666666666666, \"#ed7953\"], [0.7777777777777778, \"#fb9f3a\"], [0.8888888888888888, \"#fdca26\"], [1.0, \"#f0f921\"]], \"type\": \"heatmapgl\"}], \"histogram\": [{\"marker\": {\"colorbar\": {\"outlinewidth\": 0, \"ticks\": \"\"}}, \"type\": \"histogram\"}], \"histogram2d\": [{\"colorbar\": {\"outlinewidth\": 0, \"ticks\": \"\"}, \"colorscale\": [[0.0, \"#0d0887\"], [0.1111111111111111, \"#46039f\"], [0.2222222222222222, \"#7201a8\"], [0.3333333333333333, \"#9c179e\"], [0.4444444444444444, \"#bd3786\"], [0.5555555555555556, \"#d8576b\"], [0.6666666666666666, \"#ed7953\"], [0.7777777777777778, \"#fb9f3a\"], [0.8888888888888888, \"#fdca26\"], [1.0, \"#f0f921\"]], \"type\": \"histogram2d\"}], \"histogram2dcontour\": [{\"colorbar\": {\"outlinewidth\": 0, \"ticks\": \"\"}, \"colorscale\": [[0.0, \"#0d0887\"], [0.1111111111111111, \"#46039f\"], [0.2222222222222222, \"#7201a8\"], [0.3333333333333333, \"#9c179e\"], [0.4444444444444444, \"#bd3786\"], [0.5555555555555556, \"#d8576b\"], [0.6666666666666666, \"#ed7953\"], [0.7777777777777778, \"#fb9f3a\"], [0.8888888888888888, \"#fdca26\"], [1.0, \"#f0f921\"]], \"type\": \"histogram2dcontour\"}], \"mesh3d\": [{\"colorbar\": {\"outlinewidth\": 0, \"ticks\": \"\"}, \"type\": \"mesh3d\"}], \"parcoords\": [{\"line\": {\"colorbar\": {\"outlinewidth\": 0, \"ticks\": \"\"}}, \"type\": \"parcoords\"}], \"pie\": [{\"automargin\": true, \"type\": \"pie\"}], \"scatter\": [{\"marker\": {\"colorbar\": {\"outlinewidth\": 0, \"ticks\": \"\"}}, \"type\": \"scatter\"}], \"scatter3d\": [{\"line\": {\"colorbar\": {\"outlinewidth\": 0, \"ticks\": \"\"}}, \"marker\": {\"colorbar\": {\"outlinewidth\": 0, \"ticks\": \"\"}}, \"type\": \"scatter3d\"}], \"scattercarpet\": [{\"marker\": {\"colorbar\": {\"outlinewidth\": 0, \"ticks\": \"\"}}, \"type\": \"scattercarpet\"}], \"scattergeo\": [{\"marker\": {\"colorbar\": {\"outlinewidth\": 0, \"ticks\": \"\"}}, \"type\": \"scattergeo\"}], \"scattergl\": [{\"marker\": {\"colorbar\": {\"outlinewidth\": 0, \"ticks\": \"\"}}, \"type\": \"scattergl\"}], \"scattermapbox\": [{\"marker\": {\"colorbar\": {\"outlinewidth\": 0, \"ticks\": \"\"}}, \"type\": \"scattermapbox\"}], \"scatterpolar\": [{\"marker\": {\"colorbar\": {\"outlinewidth\": 0, \"ticks\": \"\"}}, \"type\": \"scatterpolar\"}], \"scatterpolargl\": [{\"marker\": {\"colorbar\": {\"outlinewidth\": 0, \"ticks\": \"\"}}, \"type\": \"scatterpolargl\"}], \"scatterternary\": [{\"marker\": {\"colorbar\": {\"outlinewidth\": 0, \"ticks\": \"\"}}, \"type\": \"scatterternary\"}], \"surface\": [{\"colorbar\": {\"outlinewidth\": 0, \"ticks\": \"\"}, \"colorscale\": [[0.0, \"#0d0887\"], [0.1111111111111111, \"#46039f\"], [0.2222222222222222, \"#7201a8\"], [0.3333333333333333, \"#9c179e\"], [0.4444444444444444, \"#bd3786\"], [0.5555555555555556, \"#d8576b\"], [0.6666666666666666, \"#ed7953\"], [0.7777777777777778, \"#fb9f3a\"], [0.8888888888888888, \"#fdca26\"], [1.0, \"#f0f921\"]], \"type\": \"surface\"}], \"table\": [{\"cells\": {\"fill\": {\"color\": \"#EBF0F8\"}, \"line\": {\"color\": \"white\"}}, \"header\": {\"fill\": {\"color\": \"#C8D4E3\"}, \"line\": {\"color\": \"white\"}}, \"type\": \"table\"}]}, \"layout\": {\"annotationdefaults\": {\"arrowcolor\": \"#2a3f5f\", \"arrowhead\": 0, \"arrowwidth\": 1}, \"coloraxis\": {\"colorbar\": {\"outlinewidth\": 0, \"ticks\": \"\"}}, \"colorscale\": {\"diverging\": [[0, \"#8e0152\"], [0.1, \"#c51b7d\"], [0.2, \"#de77ae\"], [0.3, \"#f1b6da\"], [0.4, \"#fde0ef\"], [0.5, \"#f7f7f7\"], [0.6, \"#e6f5d0\"], [0.7, \"#b8e186\"], [0.8, \"#7fbc41\"], [0.9, \"#4d9221\"], [1, \"#276419\"]], \"sequential\": [[0.0, \"#0d0887\"], [0.1111111111111111, \"#46039f\"], [0.2222222222222222, \"#7201a8\"], [0.3333333333333333, \"#9c179e\"], [0.4444444444444444, \"#bd3786\"], [0.5555555555555556, \"#d8576b\"], [0.6666666666666666, \"#ed7953\"], [0.7777777777777778, \"#fb9f3a\"], [0.8888888888888888, \"#fdca26\"], [1.0, \"#f0f921\"]], \"sequentialminus\": [[0.0, \"#0d0887\"], [0.1111111111111111, \"#46039f\"], [0.2222222222222222, \"#7201a8\"], [0.3333333333333333, \"#9c179e\"], [0.4444444444444444, \"#bd3786\"], [0.5555555555555556, \"#d8576b\"], [0.6666666666666666, \"#ed7953\"], [0.7777777777777778, \"#fb9f3a\"], [0.8888888888888888, \"#fdca26\"], [1.0, \"#f0f921\"]]}, \"colorway\": [\"#636efa\", \"#EF553B\", \"#00cc96\", \"#ab63fa\", \"#FFA15A\", \"#19d3f3\", \"#FF6692\", \"#B6E880\", \"#FF97FF\", \"#FECB52\"], \"font\": {\"color\": \"#2a3f5f\"}, \"geo\": {\"bgcolor\": \"white\", \"lakecolor\": \"white\", \"landcolor\": \"#E5ECF6\", \"showlakes\": true, \"showland\": true, \"subunitcolor\": \"white\"}, \"hoverlabel\": {\"align\": \"left\"}, \"hovermode\": \"closest\", \"mapbox\": {\"style\": \"light\"}, \"paper_bgcolor\": \"white\", \"plot_bgcolor\": \"#E5ECF6\", \"polar\": {\"angularaxis\": {\"gridcolor\": \"white\", \"linecolor\": \"white\", \"ticks\": \"\"}, \"bgcolor\": \"#E5ECF6\", \"radialaxis\": {\"gridcolor\": \"white\", \"linecolor\": \"white\", \"ticks\": \"\"}}, \"scene\": {\"xaxis\": {\"backgroundcolor\": \"#E5ECF6\", \"gridcolor\": \"white\", \"gridwidth\": 2, \"linecolor\": \"white\", \"showbackground\": true, \"ticks\": \"\", \"zerolinecolor\": \"white\"}, \"yaxis\": {\"backgroundcolor\": \"#E5ECF6\", \"gridcolor\": \"white\", \"gridwidth\": 2, \"linecolor\": \"white\", \"showbackground\": true, \"ticks\": \"\", \"zerolinecolor\": \"white\"}, \"zaxis\": {\"backgroundcolor\": \"#E5ECF6\", \"gridcolor\": \"white\", \"gridwidth\": 2, \"linecolor\": \"white\", \"showbackground\": true, \"ticks\": \"\", \"zerolinecolor\": \"white\"}}, \"shapedefaults\": {\"line\": {\"color\": \"#2a3f5f\"}}, \"ternary\": {\"aaxis\": {\"gridcolor\": \"white\", \"linecolor\": \"white\", \"ticks\": \"\"}, \"baxis\": {\"gridcolor\": \"white\", \"linecolor\": \"white\", \"ticks\": \"\"}, \"bgcolor\": \"#E5ECF6\", \"caxis\": {\"gridcolor\": \"white\", \"linecolor\": \"white\", \"ticks\": \"\"}}, \"title\": {\"x\": 0.05}, \"xaxis\": {\"automargin\": true, \"gridcolor\": \"white\", \"linecolor\": \"white\", \"ticks\": \"\", \"title\": {\"standoff\": 15}, \"zerolinecolor\": \"white\", \"zerolinewidth\": 2}, \"yaxis\": {\"automargin\": true, \"gridcolor\": \"white\", \"linecolor\": \"white\", \"ticks\": \"\", \"title\": {\"standoff\": 15}, \"zerolinecolor\": \"white\", \"zerolinewidth\": 2}}}},                        {\"responsive\": true}                    ).then(function(){\n",
       "                            \n",
       "var gd = document.getElementById('2c9056cb-4b15-4e0f-b4d5-eca51ae1a08a');\n",
       "var x = new MutationObserver(function (mutations, observer) {{\n",
       "        var display = window.getComputedStyle(gd).display;\n",
       "        if (!display || display === 'none') {{\n",
       "            console.log([gd, 'removed!']);\n",
       "            Plotly.purge(gd);\n",
       "            observer.disconnect();\n",
       "        }}\n",
       "}});\n",
       "\n",
       "// Listen for the removal of the full notebook cells\n",
       "var notebookContainer = gd.closest('#notebook-container');\n",
       "if (notebookContainer) {{\n",
       "    x.observe(notebookContainer, {childList: true});\n",
       "}}\n",
       "\n",
       "// Listen for the clearing of the current output cell\n",
       "var outputEl = gd.closest('.output');\n",
       "if (outputEl) {{\n",
       "    x.observe(outputEl, {childList: true});\n",
       "}}\n",
       "\n",
       "                        })                };                });            </script>        </div>"
      ]
     },
     "metadata": {},
     "output_type": "display_data"
    }
   ],
   "source": [
    "fig = go.Figure([\n",
    "    go.Scatter(x= X_train.squeeze(), y= Y_train, name=\"train\", mode='markers'),\n",
    "    go.Scatter(x = X_test.squeeze(), y= Y_test, name = \"test\", mode = 'markers'),\n",
    "    go.Scatter(x = x_range, y = y_range, name = \"predict\", mode='lines')\n",
    "])\n",
    "fig.show()"
   ]
  },
  {
   "cell_type": "code",
   "execution_count": 81,
   "metadata": {
    "scrolled": true
   },
   "outputs": [
    {
     "data": {
      "text/plain": [
       "0.8239239780938947"
      ]
     },
     "execution_count": 81,
     "metadata": {},
     "output_type": "execute_result"
    }
   ],
   "source": [
    "model.score(X_test, Y_test)"
   ]
  },
  {
   "cell_type": "markdown",
   "metadata": {},
   "source": [
    "# Regresion con 3 Varieables"
   ]
  },
  {
   "cell_type": "code",
   "execution_count": 93,
   "metadata": {},
   "outputs": [],
   "source": [
    "#agregando variables\n",
    "Paises = ['Peru', \"US\", \"Brazil\", \"Mexico\", \"Japon\"]"
   ]
  },
  {
   "cell_type": "markdown",
   "metadata": {},
   "source": []
  },
  {
   "cell_type": "code",
   "execution_count": 94,
   "metadata": {},
   "outputs": [
    {
     "data": {
      "text/plain": [
       "array([3, 4, 0, 2, 1], dtype=int64)"
      ]
     },
     "execution_count": 94,
     "metadata": {},
     "output_type": "execute_result"
    }
   ],
   "source": [
    "le = LabelEncoder()\n",
    "le_Pa = le.fit_transform(Paises)\n",
    "le_Pa"
   ]
  },
  {
   "cell_type": "markdown",
   "metadata": {},
   "source": []
  },
  {
   "cell_type": "code",
   "execution_count": 95,
   "metadata": {},
   "outputs": [],
   "source": [
    "import random\n",
    "df['pais'] = [random.choice(le_Pa) for i in range(len(df))]"
   ]
  },
  {
   "cell_type": "code",
   "execution_count": 97,
   "metadata": {
    "scrolled": true
   },
   "outputs": [
    {
     "data": {
      "text/html": [
       "<div>\n",
       "<style scoped>\n",
       "    .dataframe tbody tr th:only-of-type {\n",
       "        vertical-align: middle;\n",
       "    }\n",
       "\n",
       "    .dataframe tbody tr th {\n",
       "        vertical-align: top;\n",
       "    }\n",
       "\n",
       "    .dataframe thead th {\n",
       "        text-align: right;\n",
       "    }\n",
       "</style>\n",
       "<table border=\"1\" class=\"dataframe\">\n",
       "  <thead>\n",
       "    <tr style=\"text-align: right;\">\n",
       "      <th></th>\n",
       "      <th>Aexperiencia</th>\n",
       "      <th>Salario</th>\n",
       "      <th>pais</th>\n",
       "    </tr>\n",
       "  </thead>\n",
       "  <tbody>\n",
       "    <tr>\n",
       "      <th>0</th>\n",
       "      <td>10.0</td>\n",
       "      <td>42500</td>\n",
       "      <td>4</td>\n",
       "    </tr>\n",
       "    <tr>\n",
       "      <th>1</th>\n",
       "      <td>8.0</td>\n",
       "      <td>36302</td>\n",
       "      <td>4</td>\n",
       "    </tr>\n",
       "    <tr>\n",
       "      <th>2</th>\n",
       "      <td>5.4</td>\n",
       "      <td>35000</td>\n",
       "      <td>2</td>\n",
       "    </tr>\n",
       "    <tr>\n",
       "      <th>3</th>\n",
       "      <td>2.5</td>\n",
       "      <td>18103</td>\n",
       "      <td>1</td>\n",
       "    </tr>\n",
       "    <tr>\n",
       "      <th>4</th>\n",
       "      <td>1.0</td>\n",
       "      <td>15000</td>\n",
       "      <td>4</td>\n",
       "    </tr>\n",
       "    <tr>\n",
       "      <th>5</th>\n",
       "      <td>8.0</td>\n",
       "      <td>37000</td>\n",
       "      <td>2</td>\n",
       "    </tr>\n",
       "    <tr>\n",
       "      <th>6</th>\n",
       "      <td>4.0</td>\n",
       "      <td>26300</td>\n",
       "      <td>4</td>\n",
       "    </tr>\n",
       "    <tr>\n",
       "      <th>7</th>\n",
       "      <td>6.0</td>\n",
       "      <td>35201</td>\n",
       "      <td>3</td>\n",
       "    </tr>\n",
       "    <tr>\n",
       "      <th>8</th>\n",
       "      <td>2.0</td>\n",
       "      <td>18302</td>\n",
       "      <td>0</td>\n",
       "    </tr>\n",
       "    <tr>\n",
       "      <th>9</th>\n",
       "      <td>10.0</td>\n",
       "      <td>42000</td>\n",
       "      <td>0</td>\n",
       "    </tr>\n",
       "  </tbody>\n",
       "</table>\n",
       "</div>"
      ],
      "text/plain": [
       "   Aexperiencia  Salario  pais\n",
       "0          10.0    42500     4\n",
       "1           8.0    36302     4\n",
       "2           5.4    35000     2\n",
       "3           2.5    18103     1\n",
       "4           1.0    15000     4\n",
       "5           8.0    37000     2\n",
       "6           4.0    26300     4\n",
       "7           6.0    35201     3\n",
       "8           2.0    18302     0\n",
       "9          10.0    42000     0"
      ]
     },
     "execution_count": 97,
     "metadata": {},
     "output_type": "execute_result"
    }
   ],
   "source": [
    "df.head(10)"
   ]
  },
  {
   "cell_type": "code",
   "execution_count": 102,
   "metadata": {},
   "outputs": [],
   "source": [
    "x = df.drop('Salario',axis = 1)\n",
    "y = df['Salario']"
   ]
  },
  {
   "cell_type": "code",
   "execution_count": 103,
   "metadata": {},
   "outputs": [],
   "source": [
    "X_train, X_test, Y_train, Y_test = train_test_split(x,y, test_size = 0.25, random_state = 45 )"
   ]
  },
  {
   "cell_type": "code",
   "execution_count": 104,
   "metadata": {},
   "outputs": [
    {
     "data": {
      "text/plain": [
       "LinearRegression()"
      ]
     },
     "execution_count": 104,
     "metadata": {},
     "output_type": "execute_result"
    }
   ],
   "source": [
    "model_3v = LinearRegression()\n",
    "model_3v.fit(X_train,Y_train)"
   ]
  },
  {
   "cell_type": "code",
   "execution_count": 120,
   "metadata": {},
   "outputs": [],
   "source": [
    "x_range = df['Aexperiencia'].values.squeeze()\n",
    "y_range = df['pais'].values.squeeze() \n",
    "xx , yy = np.meshgrid(x_range,y_range)\n",
    "pred = model_3v.predict(np.c_[xx.ravel(), yy.ravel()])\n",
    "pred = pred.reshape(xx.shape)"
   ]
  },
  {
   "cell_type": "code",
   "execution_count": null,
   "metadata": {},
   "outputs": [],
   "source": [
    "xx, yy = np.meshgrid(xrange, yrange)\n",
    "pred = model.predict(np.c_[xx.ravel(), yy.ravel()])\n",
    "pred = pred.reshape(xx.shape)\n"
   ]
  },
  {
   "cell_type": "code",
   "execution_count": 139,
   "metadata": {
    "scrolled": false
   },
   "outputs": [
    {
     "data": {
      "application/vnd.plotly.v1+json": {
       "config": {
        "plotlyServerURL": "https://plot.ly"
       },
       "data": [
        {
         "mode": "markers",
         "name": "Train",
         "type": "scatter3d",
         "x": [
          4,
          2,
          9.2,
          4,
          5.3,
          2.1,
          3,
          2,
          5.4,
          3,
          5,
          3.2,
          2,
          2,
          8,
          5,
          1,
          4,
          3.4,
          10,
          2.5,
          7
         ],
         "y": [
          2,
          0,
          2,
          4,
          3,
          0,
          0,
          4,
          2,
          4,
          3,
          0,
          0,
          4,
          4,
          0,
          4,
          4,
          0,
          4,
          1,
          2
         ],
         "z": [
          27000,
          17301,
          40000,
          26300,
          27900,
          17500,
          19000,
          18200,
          35000,
          19201,
          28000,
          18300,
          18302,
          17000,
          36302,
          33402,
          15000,
          25000,
          20000,
          42500,
          18103,
          35201
         ]
        },
        {
         "mode": "markers",
         "name": "Test",
         "type": "scatter3d",
         "x": [
          3,
          10,
          10,
          8,
          5,
          10,
          1,
          6
         ],
         "y": [
          4,
          2,
          3,
          2,
          0,
          0,
          1,
          3
         ],
         "z": [
          19000,
          40000,
          42500,
          37000,
          28000,
          42000,
          15000,
          35201
         ]
        },
        {
         "name": "predict",
         "type": "surface",
         "x": [
          10,
          8,
          5.4,
          2.5,
          1,
          8,
          4,
          6,
          2,
          10,
          4,
          7,
          3,
          5,
          2,
          5,
          3,
          2,
          3,
          2,
          5,
          3.4,
          5.3,
          2.1,
          9.2,
          10,
          3.2,
          10,
          4,
          1
         ],
         "y": [
          4,
          4,
          2,
          1,
          4,
          2,
          4,
          3,
          0,
          0,
          2,
          2,
          4,
          0,
          4,
          0,
          4,
          4,
          0,
          0,
          3,
          0,
          3,
          0,
          2,
          3,
          0,
          2,
          4,
          1
         ],
         "z": [
          [
           44401.45041041419,
           37761.14636097627,
           29128.751096706987,
           19500.310225022004,
           14520.08218794357,
           37761.14636097627,
           24480.538262100443,
           31120.84231153836,
           17840.23421266253,
           44401.45041041419,
           24480.538262100443,
           34440.99433625732,
           21160.386237381485,
           27800.6902868194,
           17840.23421266253,
           27800.6902868194,
           21160.386237381485,
           17840.23421266253,
           21160.386237381485,
           17840.23421266253,
           27800.6902868194,
           22488.447047269066,
           28796.735894235087,
           18172.249415134425,
           41745.32879063902,
           44401.45041041419,
           21824.416642325275,
           44401.45041041419,
           24480.538262100443,
           14520.08218794357
          ],
          [
           44401.45041041419,
           37761.14636097627,
           29128.751096706987,
           19500.310225022004,
           14520.08218794357,
           37761.14636097627,
           24480.538262100443,
           31120.84231153836,
           17840.23421266253,
           44401.45041041419,
           24480.538262100443,
           34440.99433625732,
           21160.386237381485,
           27800.6902868194,
           17840.23421266253,
           27800.6902868194,
           21160.386237381485,
           17840.23421266253,
           21160.386237381485,
           17840.23421266253,
           27800.6902868194,
           22488.447047269066,
           28796.735894235087,
           18172.249415134425,
           41745.32879063902,
           44401.45041041419,
           21824.416642325275,
           44401.45041041419,
           24480.538262100443,
           14520.08218794357
          ],
          [
           44353.030064449486,
           37712.726015011576,
           29080.330750742283,
           19451.889879057304,
           14471.661841978868,
           37712.726015011576,
           24432.117916135743,
           31072.421965573656,
           17791.813866697827,
           44353.030064449486,
           24432.117916135743,
           34392.573990292614,
           21111.96589141678,
           27752.269940854698,
           17791.813866697827,
           27752.269940854698,
           21111.96589141678,
           17791.813866697827,
           21111.96589141678,
           17791.813866697827,
           27752.269940854698,
           22440.026701304367,
           28748.315548270384,
           18123.829069169722,
           41696.90844467432,
           44353.030064449486,
           21775.996296360576,
           44353.030064449486,
           24432.117916135743,
           14471.661841978868
          ],
          [
           44328.81989146713,
           37688.51584202922,
           29056.12057775993,
           19427.679706074952,
           14447.451668996517,
           37688.51584202922,
           24407.907743153388,
           31048.211792591304,
           17767.603693715475,
           44328.81989146713,
           24407.907743153388,
           34368.363817310266,
           21087.755718434433,
           27728.059767872346,
           17767.603693715475,
           27728.059767872346,
           21087.755718434433,
           17767.603693715475,
           21087.755718434433,
           17767.603693715475,
           27728.059767872346,
           22415.816528322015,
           28724.105375288033,
           18099.61889618737,
           41672.69827169197,
           44328.81989146713,
           21751.786123378224,
           44328.81989146713,
           24407.907743153388,
           14447.451668996517
          ],
          [
           44401.45041041419,
           37761.14636097627,
           29128.751096706987,
           19500.310225022004,
           14520.08218794357,
           37761.14636097627,
           24480.538262100443,
           31120.84231153836,
           17840.23421266253,
           44401.45041041419,
           24480.538262100443,
           34440.99433625732,
           21160.386237381485,
           27800.6902868194,
           17840.23421266253,
           27800.6902868194,
           21160.386237381485,
           17840.23421266253,
           21160.386237381485,
           17840.23421266253,
           27800.6902868194,
           22488.447047269066,
           28796.735894235087,
           18172.249415134425,
           41745.32879063902,
           44401.45041041419,
           21824.416642325275,
           44401.45041041419,
           24480.538262100443,
           14520.08218794357
          ],
          [
           44353.030064449486,
           37712.726015011576,
           29080.330750742283,
           19451.889879057304,
           14471.661841978868,
           37712.726015011576,
           24432.117916135743,
           31072.421965573656,
           17791.813866697827,
           44353.030064449486,
           24432.117916135743,
           34392.573990292614,
           21111.96589141678,
           27752.269940854698,
           17791.813866697827,
           27752.269940854698,
           21111.96589141678,
           17791.813866697827,
           21111.96589141678,
           17791.813866697827,
           27752.269940854698,
           22440.026701304367,
           28748.315548270384,
           18123.829069169722,
           41696.90844467432,
           44353.030064449486,
           21775.996296360576,
           44353.030064449486,
           24432.117916135743,
           14471.661841978868
          ],
          [
           44401.45041041419,
           37761.14636097627,
           29128.751096706987,
           19500.310225022004,
           14520.08218794357,
           37761.14636097627,
           24480.538262100443,
           31120.84231153836,
           17840.23421266253,
           44401.45041041419,
           24480.538262100443,
           34440.99433625732,
           21160.386237381485,
           27800.6902868194,
           17840.23421266253,
           27800.6902868194,
           21160.386237381485,
           17840.23421266253,
           21160.386237381485,
           17840.23421266253,
           27800.6902868194,
           22488.447047269066,
           28796.735894235087,
           18172.249415134425,
           41745.32879063902,
           44401.45041041419,
           21824.416642325275,
           44401.45041041419,
           24480.538262100443,
           14520.08218794357
          ],
          [
           44377.24023743183,
           37736.936187993924,
           29104.540923724635,
           19476.100052039656,
           14495.872014961218,
           37736.936187993924,
           24456.32808911809,
           31096.632138556008,
           17816.024039680175,
           44377.24023743183,
           24456.32808911809,
           34416.78416327496,
           21136.176064399137,
           27776.48011383705,
           17816.024039680175,
           27776.48011383705,
           21136.176064399137,
           17816.024039680175,
           21136.176064399137,
           17816.024039680175,
           27776.48011383705,
           22464.23687428672,
           28772.525721252736,
           18148.039242152074,
           41721.11861765667,
           44377.24023743183,
           21800.206469342927,
           44377.24023743183,
           24456.32808911809,
           14495.872014961218
          ],
          [
           44304.60971848478,
           37664.305669046866,
           29031.91040477758,
           19403.4695330926,
           14423.241496014165,
           37664.305669046866,
           24383.69757017104,
           31024.001619608953,
           17743.393520733123,
           44304.60971848478,
           24383.69757017104,
           34344.15364432791,
           21063.545545452078,
           27703.849594889994,
           17743.393520733123,
           27703.849594889994,
           21063.545545452078,
           17743.393520733123,
           21063.545545452078,
           17743.393520733123,
           27703.849594889994,
           22391.606355339663,
           28699.89520230568,
           18075.40872320502,
           41648.48809870961,
           44304.60971848478,
           21727.575950395872,
           44304.60971848478,
           24383.69757017104,
           14423.241496014165
          ],
          [
           44304.60971848478,
           37664.305669046866,
           29031.91040477758,
           19403.4695330926,
           14423.241496014165,
           37664.305669046866,
           24383.69757017104,
           31024.001619608953,
           17743.393520733123,
           44304.60971848478,
           24383.69757017104,
           34344.15364432791,
           21063.545545452078,
           27703.849594889994,
           17743.393520733123,
           27703.849594889994,
           21063.545545452078,
           17743.393520733123,
           21063.545545452078,
           17743.393520733123,
           27703.849594889994,
           22391.606355339663,
           28699.89520230568,
           18075.40872320502,
           41648.48809870961,
           44304.60971848478,
           21727.575950395872,
           44304.60971848478,
           24383.69757017104,
           14423.241496014165
          ],
          [
           44353.030064449486,
           37712.726015011576,
           29080.330750742283,
           19451.889879057304,
           14471.661841978868,
           37712.726015011576,
           24432.117916135743,
           31072.421965573656,
           17791.813866697827,
           44353.030064449486,
           24432.117916135743,
           34392.573990292614,
           21111.96589141678,
           27752.269940854698,
           17791.813866697827,
           27752.269940854698,
           21111.96589141678,
           17791.813866697827,
           21111.96589141678,
           17791.813866697827,
           27752.269940854698,
           22440.026701304367,
           28748.315548270384,
           18123.829069169722,
           41696.90844467432,
           44353.030064449486,
           21775.996296360576,
           44353.030064449486,
           24432.117916135743,
           14471.661841978868
          ],
          [
           44353.030064449486,
           37712.726015011576,
           29080.330750742283,
           19451.889879057304,
           14471.661841978868,
           37712.726015011576,
           24432.117916135743,
           31072.421965573656,
           17791.813866697827,
           44353.030064449486,
           24432.117916135743,
           34392.573990292614,
           21111.96589141678,
           27752.269940854698,
           17791.813866697827,
           27752.269940854698,
           21111.96589141678,
           17791.813866697827,
           21111.96589141678,
           17791.813866697827,
           27752.269940854698,
           22440.026701304367,
           28748.315548270384,
           18123.829069169722,
           41696.90844467432,
           44353.030064449486,
           21775.996296360576,
           44353.030064449486,
           24432.117916135743,
           14471.661841978868
          ],
          [
           44401.45041041419,
           37761.14636097627,
           29128.751096706987,
           19500.310225022004,
           14520.08218794357,
           37761.14636097627,
           24480.538262100443,
           31120.84231153836,
           17840.23421266253,
           44401.45041041419,
           24480.538262100443,
           34440.99433625732,
           21160.386237381485,
           27800.6902868194,
           17840.23421266253,
           27800.6902868194,
           21160.386237381485,
           17840.23421266253,
           21160.386237381485,
           17840.23421266253,
           27800.6902868194,
           22488.447047269066,
           28796.735894235087,
           18172.249415134425,
           41745.32879063902,
           44401.45041041419,
           21824.416642325275,
           44401.45041041419,
           24480.538262100443,
           14520.08218794357
          ],
          [
           44304.60971848478,
           37664.305669046866,
           29031.91040477758,
           19403.4695330926,
           14423.241496014165,
           37664.305669046866,
           24383.69757017104,
           31024.001619608953,
           17743.393520733123,
           44304.60971848478,
           24383.69757017104,
           34344.15364432791,
           21063.545545452078,
           27703.849594889994,
           17743.393520733123,
           27703.849594889994,
           21063.545545452078,
           17743.393520733123,
           21063.545545452078,
           17743.393520733123,
           27703.849594889994,
           22391.606355339663,
           28699.89520230568,
           18075.40872320502,
           41648.48809870961,
           44304.60971848478,
           21727.575950395872,
           44304.60971848478,
           24383.69757017104,
           14423.241496014165
          ],
          [
           44401.45041041419,
           37761.14636097627,
           29128.751096706987,
           19500.310225022004,
           14520.08218794357,
           37761.14636097627,
           24480.538262100443,
           31120.84231153836,
           17840.23421266253,
           44401.45041041419,
           24480.538262100443,
           34440.99433625732,
           21160.386237381485,
           27800.6902868194,
           17840.23421266253,
           27800.6902868194,
           21160.386237381485,
           17840.23421266253,
           21160.386237381485,
           17840.23421266253,
           27800.6902868194,
           22488.447047269066,
           28796.735894235087,
           18172.249415134425,
           41745.32879063902,
           44401.45041041419,
           21824.416642325275,
           44401.45041041419,
           24480.538262100443,
           14520.08218794357
          ],
          [
           44304.60971848478,
           37664.305669046866,
           29031.91040477758,
           19403.4695330926,
           14423.241496014165,
           37664.305669046866,
           24383.69757017104,
           31024.001619608953,
           17743.393520733123,
           44304.60971848478,
           24383.69757017104,
           34344.15364432791,
           21063.545545452078,
           27703.849594889994,
           17743.393520733123,
           27703.849594889994,
           21063.545545452078,
           17743.393520733123,
           21063.545545452078,
           17743.393520733123,
           27703.849594889994,
           22391.606355339663,
           28699.89520230568,
           18075.40872320502,
           41648.48809870961,
           44304.60971848478,
           21727.575950395872,
           44304.60971848478,
           24383.69757017104,
           14423.241496014165
          ],
          [
           44401.45041041419,
           37761.14636097627,
           29128.751096706987,
           19500.310225022004,
           14520.08218794357,
           37761.14636097627,
           24480.538262100443,
           31120.84231153836,
           17840.23421266253,
           44401.45041041419,
           24480.538262100443,
           34440.99433625732,
           21160.386237381485,
           27800.6902868194,
           17840.23421266253,
           27800.6902868194,
           21160.386237381485,
           17840.23421266253,
           21160.386237381485,
           17840.23421266253,
           27800.6902868194,
           22488.447047269066,
           28796.735894235087,
           18172.249415134425,
           41745.32879063902,
           44401.45041041419,
           21824.416642325275,
           44401.45041041419,
           24480.538262100443,
           14520.08218794357
          ],
          [
           44401.45041041419,
           37761.14636097627,
           29128.751096706987,
           19500.310225022004,
           14520.08218794357,
           37761.14636097627,
           24480.538262100443,
           31120.84231153836,
           17840.23421266253,
           44401.45041041419,
           24480.538262100443,
           34440.99433625732,
           21160.386237381485,
           27800.6902868194,
           17840.23421266253,
           27800.6902868194,
           21160.386237381485,
           17840.23421266253,
           21160.386237381485,
           17840.23421266253,
           27800.6902868194,
           22488.447047269066,
           28796.735894235087,
           18172.249415134425,
           41745.32879063902,
           44401.45041041419,
           21824.416642325275,
           44401.45041041419,
           24480.538262100443,
           14520.08218794357
          ],
          [
           44304.60971848478,
           37664.305669046866,
           29031.91040477758,
           19403.4695330926,
           14423.241496014165,
           37664.305669046866,
           24383.69757017104,
           31024.001619608953,
           17743.393520733123,
           44304.60971848478,
           24383.69757017104,
           34344.15364432791,
           21063.545545452078,
           27703.849594889994,
           17743.393520733123,
           27703.849594889994,
           21063.545545452078,
           17743.393520733123,
           21063.545545452078,
           17743.393520733123,
           27703.849594889994,
           22391.606355339663,
           28699.89520230568,
           18075.40872320502,
           41648.48809870961,
           44304.60971848478,
           21727.575950395872,
           44304.60971848478,
           24383.69757017104,
           14423.241496014165
          ],
          [
           44304.60971848478,
           37664.305669046866,
           29031.91040477758,
           19403.4695330926,
           14423.241496014165,
           37664.305669046866,
           24383.69757017104,
           31024.001619608953,
           17743.393520733123,
           44304.60971848478,
           24383.69757017104,
           34344.15364432791,
           21063.545545452078,
           27703.849594889994,
           17743.393520733123,
           27703.849594889994,
           21063.545545452078,
           17743.393520733123,
           21063.545545452078,
           17743.393520733123,
           27703.849594889994,
           22391.606355339663,
           28699.89520230568,
           18075.40872320502,
           41648.48809870961,
           44304.60971848478,
           21727.575950395872,
           44304.60971848478,
           24383.69757017104,
           14423.241496014165
          ],
          [
           44377.24023743183,
           37736.936187993924,
           29104.540923724635,
           19476.100052039656,
           14495.872014961218,
           37736.936187993924,
           24456.32808911809,
           31096.632138556008,
           17816.024039680175,
           44377.24023743183,
           24456.32808911809,
           34416.78416327496,
           21136.176064399137,
           27776.48011383705,
           17816.024039680175,
           27776.48011383705,
           21136.176064399137,
           17816.024039680175,
           21136.176064399137,
           17816.024039680175,
           27776.48011383705,
           22464.23687428672,
           28772.525721252736,
           18148.039242152074,
           41721.11861765667,
           44377.24023743183,
           21800.206469342927,
           44377.24023743183,
           24456.32808911809,
           14495.872014961218
          ],
          [
           44304.60971848478,
           37664.305669046866,
           29031.91040477758,
           19403.4695330926,
           14423.241496014165,
           37664.305669046866,
           24383.69757017104,
           31024.001619608953,
           17743.393520733123,
           44304.60971848478,
           24383.69757017104,
           34344.15364432791,
           21063.545545452078,
           27703.849594889994,
           17743.393520733123,
           27703.849594889994,
           21063.545545452078,
           17743.393520733123,
           21063.545545452078,
           17743.393520733123,
           27703.849594889994,
           22391.606355339663,
           28699.89520230568,
           18075.40872320502,
           41648.48809870961,
           44304.60971848478,
           21727.575950395872,
           44304.60971848478,
           24383.69757017104,
           14423.241496014165
          ],
          [
           44377.24023743183,
           37736.936187993924,
           29104.540923724635,
           19476.100052039656,
           14495.872014961218,
           37736.936187993924,
           24456.32808911809,
           31096.632138556008,
           17816.024039680175,
           44377.24023743183,
           24456.32808911809,
           34416.78416327496,
           21136.176064399137,
           27776.48011383705,
           17816.024039680175,
           27776.48011383705,
           21136.176064399137,
           17816.024039680175,
           21136.176064399137,
           17816.024039680175,
           27776.48011383705,
           22464.23687428672,
           28772.525721252736,
           18148.039242152074,
           41721.11861765667,
           44377.24023743183,
           21800.206469342927,
           44377.24023743183,
           24456.32808911809,
           14495.872014961218
          ],
          [
           44304.60971848478,
           37664.305669046866,
           29031.91040477758,
           19403.4695330926,
           14423.241496014165,
           37664.305669046866,
           24383.69757017104,
           31024.001619608953,
           17743.393520733123,
           44304.60971848478,
           24383.69757017104,
           34344.15364432791,
           21063.545545452078,
           27703.849594889994,
           17743.393520733123,
           27703.849594889994,
           21063.545545452078,
           17743.393520733123,
           21063.545545452078,
           17743.393520733123,
           27703.849594889994,
           22391.606355339663,
           28699.89520230568,
           18075.40872320502,
           41648.48809870961,
           44304.60971848478,
           21727.575950395872,
           44304.60971848478,
           24383.69757017104,
           14423.241496014165
          ],
          [
           44353.030064449486,
           37712.726015011576,
           29080.330750742283,
           19451.889879057304,
           14471.661841978868,
           37712.726015011576,
           24432.117916135743,
           31072.421965573656,
           17791.813866697827,
           44353.030064449486,
           24432.117916135743,
           34392.573990292614,
           21111.96589141678,
           27752.269940854698,
           17791.813866697827,
           27752.269940854698,
           21111.96589141678,
           17791.813866697827,
           21111.96589141678,
           17791.813866697827,
           27752.269940854698,
           22440.026701304367,
           28748.315548270384,
           18123.829069169722,
           41696.90844467432,
           44353.030064449486,
           21775.996296360576,
           44353.030064449486,
           24432.117916135743,
           14471.661841978868
          ],
          [
           44377.24023743183,
           37736.936187993924,
           29104.540923724635,
           19476.100052039656,
           14495.872014961218,
           37736.936187993924,
           24456.32808911809,
           31096.632138556008,
           17816.024039680175,
           44377.24023743183,
           24456.32808911809,
           34416.78416327496,
           21136.176064399137,
           27776.48011383705,
           17816.024039680175,
           27776.48011383705,
           21136.176064399137,
           17816.024039680175,
           21136.176064399137,
           17816.024039680175,
           27776.48011383705,
           22464.23687428672,
           28772.525721252736,
           18148.039242152074,
           41721.11861765667,
           44377.24023743183,
           21800.206469342927,
           44377.24023743183,
           24456.32808911809,
           14495.872014961218
          ],
          [
           44304.60971848478,
           37664.305669046866,
           29031.91040477758,
           19403.4695330926,
           14423.241496014165,
           37664.305669046866,
           24383.69757017104,
           31024.001619608953,
           17743.393520733123,
           44304.60971848478,
           24383.69757017104,
           34344.15364432791,
           21063.545545452078,
           27703.849594889994,
           17743.393520733123,
           27703.849594889994,
           21063.545545452078,
           17743.393520733123,
           21063.545545452078,
           17743.393520733123,
           27703.849594889994,
           22391.606355339663,
           28699.89520230568,
           18075.40872320502,
           41648.48809870961,
           44304.60971848478,
           21727.575950395872,
           44304.60971848478,
           24383.69757017104,
           14423.241496014165
          ],
          [
           44353.030064449486,
           37712.726015011576,
           29080.330750742283,
           19451.889879057304,
           14471.661841978868,
           37712.726015011576,
           24432.117916135743,
           31072.421965573656,
           17791.813866697827,
           44353.030064449486,
           24432.117916135743,
           34392.573990292614,
           21111.96589141678,
           27752.269940854698,
           17791.813866697827,
           27752.269940854698,
           21111.96589141678,
           17791.813866697827,
           21111.96589141678,
           17791.813866697827,
           27752.269940854698,
           22440.026701304367,
           28748.315548270384,
           18123.829069169722,
           41696.90844467432,
           44353.030064449486,
           21775.996296360576,
           44353.030064449486,
           24432.117916135743,
           14471.661841978868
          ],
          [
           44401.45041041419,
           37761.14636097627,
           29128.751096706987,
           19500.310225022004,
           14520.08218794357,
           37761.14636097627,
           24480.538262100443,
           31120.84231153836,
           17840.23421266253,
           44401.45041041419,
           24480.538262100443,
           34440.99433625732,
           21160.386237381485,
           27800.6902868194,
           17840.23421266253,
           27800.6902868194,
           21160.386237381485,
           17840.23421266253,
           21160.386237381485,
           17840.23421266253,
           27800.6902868194,
           22488.447047269066,
           28796.735894235087,
           18172.249415134425,
           41745.32879063902,
           44401.45041041419,
           21824.416642325275,
           44401.45041041419,
           24480.538262100443,
           14520.08218794357
          ],
          [
           44328.81989146713,
           37688.51584202922,
           29056.12057775993,
           19427.679706074952,
           14447.451668996517,
           37688.51584202922,
           24407.907743153388,
           31048.211792591304,
           17767.603693715475,
           44328.81989146713,
           24407.907743153388,
           34368.363817310266,
           21087.755718434433,
           27728.059767872346,
           17767.603693715475,
           27728.059767872346,
           21087.755718434433,
           17767.603693715475,
           21087.755718434433,
           17767.603693715475,
           27728.059767872346,
           22415.816528322015,
           28724.105375288033,
           18099.61889618737,
           41672.69827169197,
           44328.81989146713,
           21751.786123378224,
           44328.81989146713,
           24407.907743153388,
           14447.451668996517
          ]
         ]
        }
       ],
       "layout": {
        "template": {
         "data": {
          "bar": [
           {
            "error_x": {
             "color": "#2a3f5f"
            },
            "error_y": {
             "color": "#2a3f5f"
            },
            "marker": {
             "line": {
              "color": "#E5ECF6",
              "width": 0.5
             }
            },
            "type": "bar"
           }
          ],
          "barpolar": [
           {
            "marker": {
             "line": {
              "color": "#E5ECF6",
              "width": 0.5
             }
            },
            "type": "barpolar"
           }
          ],
          "carpet": [
           {
            "aaxis": {
             "endlinecolor": "#2a3f5f",
             "gridcolor": "white",
             "linecolor": "white",
             "minorgridcolor": "white",
             "startlinecolor": "#2a3f5f"
            },
            "baxis": {
             "endlinecolor": "#2a3f5f",
             "gridcolor": "white",
             "linecolor": "white",
             "minorgridcolor": "white",
             "startlinecolor": "#2a3f5f"
            },
            "type": "carpet"
           }
          ],
          "choropleth": [
           {
            "colorbar": {
             "outlinewidth": 0,
             "ticks": ""
            },
            "type": "choropleth"
           }
          ],
          "contour": [
           {
            "colorbar": {
             "outlinewidth": 0,
             "ticks": ""
            },
            "colorscale": [
             [
              0,
              "#0d0887"
             ],
             [
              0.1111111111111111,
              "#46039f"
             ],
             [
              0.2222222222222222,
              "#7201a8"
             ],
             [
              0.3333333333333333,
              "#9c179e"
             ],
             [
              0.4444444444444444,
              "#bd3786"
             ],
             [
              0.5555555555555556,
              "#d8576b"
             ],
             [
              0.6666666666666666,
              "#ed7953"
             ],
             [
              0.7777777777777778,
              "#fb9f3a"
             ],
             [
              0.8888888888888888,
              "#fdca26"
             ],
             [
              1,
              "#f0f921"
             ]
            ],
            "type": "contour"
           }
          ],
          "contourcarpet": [
           {
            "colorbar": {
             "outlinewidth": 0,
             "ticks": ""
            },
            "type": "contourcarpet"
           }
          ],
          "heatmap": [
           {
            "colorbar": {
             "outlinewidth": 0,
             "ticks": ""
            },
            "colorscale": [
             [
              0,
              "#0d0887"
             ],
             [
              0.1111111111111111,
              "#46039f"
             ],
             [
              0.2222222222222222,
              "#7201a8"
             ],
             [
              0.3333333333333333,
              "#9c179e"
             ],
             [
              0.4444444444444444,
              "#bd3786"
             ],
             [
              0.5555555555555556,
              "#d8576b"
             ],
             [
              0.6666666666666666,
              "#ed7953"
             ],
             [
              0.7777777777777778,
              "#fb9f3a"
             ],
             [
              0.8888888888888888,
              "#fdca26"
             ],
             [
              1,
              "#f0f921"
             ]
            ],
            "type": "heatmap"
           }
          ],
          "heatmapgl": [
           {
            "colorbar": {
             "outlinewidth": 0,
             "ticks": ""
            },
            "colorscale": [
             [
              0,
              "#0d0887"
             ],
             [
              0.1111111111111111,
              "#46039f"
             ],
             [
              0.2222222222222222,
              "#7201a8"
             ],
             [
              0.3333333333333333,
              "#9c179e"
             ],
             [
              0.4444444444444444,
              "#bd3786"
             ],
             [
              0.5555555555555556,
              "#d8576b"
             ],
             [
              0.6666666666666666,
              "#ed7953"
             ],
             [
              0.7777777777777778,
              "#fb9f3a"
             ],
             [
              0.8888888888888888,
              "#fdca26"
             ],
             [
              1,
              "#f0f921"
             ]
            ],
            "type": "heatmapgl"
           }
          ],
          "histogram": [
           {
            "marker": {
             "colorbar": {
              "outlinewidth": 0,
              "ticks": ""
             }
            },
            "type": "histogram"
           }
          ],
          "histogram2d": [
           {
            "colorbar": {
             "outlinewidth": 0,
             "ticks": ""
            },
            "colorscale": [
             [
              0,
              "#0d0887"
             ],
             [
              0.1111111111111111,
              "#46039f"
             ],
             [
              0.2222222222222222,
              "#7201a8"
             ],
             [
              0.3333333333333333,
              "#9c179e"
             ],
             [
              0.4444444444444444,
              "#bd3786"
             ],
             [
              0.5555555555555556,
              "#d8576b"
             ],
             [
              0.6666666666666666,
              "#ed7953"
             ],
             [
              0.7777777777777778,
              "#fb9f3a"
             ],
             [
              0.8888888888888888,
              "#fdca26"
             ],
             [
              1,
              "#f0f921"
             ]
            ],
            "type": "histogram2d"
           }
          ],
          "histogram2dcontour": [
           {
            "colorbar": {
             "outlinewidth": 0,
             "ticks": ""
            },
            "colorscale": [
             [
              0,
              "#0d0887"
             ],
             [
              0.1111111111111111,
              "#46039f"
             ],
             [
              0.2222222222222222,
              "#7201a8"
             ],
             [
              0.3333333333333333,
              "#9c179e"
             ],
             [
              0.4444444444444444,
              "#bd3786"
             ],
             [
              0.5555555555555556,
              "#d8576b"
             ],
             [
              0.6666666666666666,
              "#ed7953"
             ],
             [
              0.7777777777777778,
              "#fb9f3a"
             ],
             [
              0.8888888888888888,
              "#fdca26"
             ],
             [
              1,
              "#f0f921"
             ]
            ],
            "type": "histogram2dcontour"
           }
          ],
          "mesh3d": [
           {
            "colorbar": {
             "outlinewidth": 0,
             "ticks": ""
            },
            "type": "mesh3d"
           }
          ],
          "parcoords": [
           {
            "line": {
             "colorbar": {
              "outlinewidth": 0,
              "ticks": ""
             }
            },
            "type": "parcoords"
           }
          ],
          "pie": [
           {
            "automargin": true,
            "type": "pie"
           }
          ],
          "scatter": [
           {
            "marker": {
             "colorbar": {
              "outlinewidth": 0,
              "ticks": ""
             }
            },
            "type": "scatter"
           }
          ],
          "scatter3d": [
           {
            "line": {
             "colorbar": {
              "outlinewidth": 0,
              "ticks": ""
             }
            },
            "marker": {
             "colorbar": {
              "outlinewidth": 0,
              "ticks": ""
             }
            },
            "type": "scatter3d"
           }
          ],
          "scattercarpet": [
           {
            "marker": {
             "colorbar": {
              "outlinewidth": 0,
              "ticks": ""
             }
            },
            "type": "scattercarpet"
           }
          ],
          "scattergeo": [
           {
            "marker": {
             "colorbar": {
              "outlinewidth": 0,
              "ticks": ""
             }
            },
            "type": "scattergeo"
           }
          ],
          "scattergl": [
           {
            "marker": {
             "colorbar": {
              "outlinewidth": 0,
              "ticks": ""
             }
            },
            "type": "scattergl"
           }
          ],
          "scattermapbox": [
           {
            "marker": {
             "colorbar": {
              "outlinewidth": 0,
              "ticks": ""
             }
            },
            "type": "scattermapbox"
           }
          ],
          "scatterpolar": [
           {
            "marker": {
             "colorbar": {
              "outlinewidth": 0,
              "ticks": ""
             }
            },
            "type": "scatterpolar"
           }
          ],
          "scatterpolargl": [
           {
            "marker": {
             "colorbar": {
              "outlinewidth": 0,
              "ticks": ""
             }
            },
            "type": "scatterpolargl"
           }
          ],
          "scatterternary": [
           {
            "marker": {
             "colorbar": {
              "outlinewidth": 0,
              "ticks": ""
             }
            },
            "type": "scatterternary"
           }
          ],
          "surface": [
           {
            "colorbar": {
             "outlinewidth": 0,
             "ticks": ""
            },
            "colorscale": [
             [
              0,
              "#0d0887"
             ],
             [
              0.1111111111111111,
              "#46039f"
             ],
             [
              0.2222222222222222,
              "#7201a8"
             ],
             [
              0.3333333333333333,
              "#9c179e"
             ],
             [
              0.4444444444444444,
              "#bd3786"
             ],
             [
              0.5555555555555556,
              "#d8576b"
             ],
             [
              0.6666666666666666,
              "#ed7953"
             ],
             [
              0.7777777777777778,
              "#fb9f3a"
             ],
             [
              0.8888888888888888,
              "#fdca26"
             ],
             [
              1,
              "#f0f921"
             ]
            ],
            "type": "surface"
           }
          ],
          "table": [
           {
            "cells": {
             "fill": {
              "color": "#EBF0F8"
             },
             "line": {
              "color": "white"
             }
            },
            "header": {
             "fill": {
              "color": "#C8D4E3"
             },
             "line": {
              "color": "white"
             }
            },
            "type": "table"
           }
          ]
         },
         "layout": {
          "annotationdefaults": {
           "arrowcolor": "#2a3f5f",
           "arrowhead": 0,
           "arrowwidth": 1
          },
          "coloraxis": {
           "colorbar": {
            "outlinewidth": 0,
            "ticks": ""
           }
          },
          "colorscale": {
           "diverging": [
            [
             0,
             "#8e0152"
            ],
            [
             0.1,
             "#c51b7d"
            ],
            [
             0.2,
             "#de77ae"
            ],
            [
             0.3,
             "#f1b6da"
            ],
            [
             0.4,
             "#fde0ef"
            ],
            [
             0.5,
             "#f7f7f7"
            ],
            [
             0.6,
             "#e6f5d0"
            ],
            [
             0.7,
             "#b8e186"
            ],
            [
             0.8,
             "#7fbc41"
            ],
            [
             0.9,
             "#4d9221"
            ],
            [
             1,
             "#276419"
            ]
           ],
           "sequential": [
            [
             0,
             "#0d0887"
            ],
            [
             0.1111111111111111,
             "#46039f"
            ],
            [
             0.2222222222222222,
             "#7201a8"
            ],
            [
             0.3333333333333333,
             "#9c179e"
            ],
            [
             0.4444444444444444,
             "#bd3786"
            ],
            [
             0.5555555555555556,
             "#d8576b"
            ],
            [
             0.6666666666666666,
             "#ed7953"
            ],
            [
             0.7777777777777778,
             "#fb9f3a"
            ],
            [
             0.8888888888888888,
             "#fdca26"
            ],
            [
             1,
             "#f0f921"
            ]
           ],
           "sequentialminus": [
            [
             0,
             "#0d0887"
            ],
            [
             0.1111111111111111,
             "#46039f"
            ],
            [
             0.2222222222222222,
             "#7201a8"
            ],
            [
             0.3333333333333333,
             "#9c179e"
            ],
            [
             0.4444444444444444,
             "#bd3786"
            ],
            [
             0.5555555555555556,
             "#d8576b"
            ],
            [
             0.6666666666666666,
             "#ed7953"
            ],
            [
             0.7777777777777778,
             "#fb9f3a"
            ],
            [
             0.8888888888888888,
             "#fdca26"
            ],
            [
             1,
             "#f0f921"
            ]
           ]
          },
          "colorway": [
           "#636efa",
           "#EF553B",
           "#00cc96",
           "#ab63fa",
           "#FFA15A",
           "#19d3f3",
           "#FF6692",
           "#B6E880",
           "#FF97FF",
           "#FECB52"
          ],
          "font": {
           "color": "#2a3f5f"
          },
          "geo": {
           "bgcolor": "white",
           "lakecolor": "white",
           "landcolor": "#E5ECF6",
           "showlakes": true,
           "showland": true,
           "subunitcolor": "white"
          },
          "hoverlabel": {
           "align": "left"
          },
          "hovermode": "closest",
          "mapbox": {
           "style": "light"
          },
          "paper_bgcolor": "white",
          "plot_bgcolor": "#E5ECF6",
          "polar": {
           "angularaxis": {
            "gridcolor": "white",
            "linecolor": "white",
            "ticks": ""
           },
           "bgcolor": "#E5ECF6",
           "radialaxis": {
            "gridcolor": "white",
            "linecolor": "white",
            "ticks": ""
           }
          },
          "scene": {
           "xaxis": {
            "backgroundcolor": "#E5ECF6",
            "gridcolor": "white",
            "gridwidth": 2,
            "linecolor": "white",
            "showbackground": true,
            "ticks": "",
            "zerolinecolor": "white"
           },
           "yaxis": {
            "backgroundcolor": "#E5ECF6",
            "gridcolor": "white",
            "gridwidth": 2,
            "linecolor": "white",
            "showbackground": true,
            "ticks": "",
            "zerolinecolor": "white"
           },
           "zaxis": {
            "backgroundcolor": "#E5ECF6",
            "gridcolor": "white",
            "gridwidth": 2,
            "linecolor": "white",
            "showbackground": true,
            "ticks": "",
            "zerolinecolor": "white"
           }
          },
          "shapedefaults": {
           "line": {
            "color": "#2a3f5f"
           }
          },
          "ternary": {
           "aaxis": {
            "gridcolor": "white",
            "linecolor": "white",
            "ticks": ""
           },
           "baxis": {
            "gridcolor": "white",
            "linecolor": "white",
            "ticks": ""
           },
           "bgcolor": "#E5ECF6",
           "caxis": {
            "gridcolor": "white",
            "linecolor": "white",
            "ticks": ""
           }
          },
          "title": {
           "x": 0.05
          },
          "xaxis": {
           "automargin": true,
           "gridcolor": "white",
           "linecolor": "white",
           "ticks": "",
           "title": {
            "standoff": 15
           },
           "zerolinecolor": "white",
           "zerolinewidth": 2
          },
          "yaxis": {
           "automargin": true,
           "gridcolor": "white",
           "linecolor": "white",
           "ticks": "",
           "title": {
            "standoff": 15
           },
           "zerolinecolor": "white",
           "zerolinewidth": 2
          }
         }
        }
       }
      },
      "text/html": [
       "<div>                            <div id=\"c8ec7c90-13d2-42c3-a29a-b4a62e8c65e5\" class=\"plotly-graph-div\" style=\"height:525px; width:100%;\"></div>            <script type=\"text/javascript\">                require([\"plotly\"], function(Plotly) {                    window.PLOTLYENV=window.PLOTLYENV || {};                                    if (document.getElementById(\"c8ec7c90-13d2-42c3-a29a-b4a62e8c65e5\")) {                    Plotly.newPlot(                        \"c8ec7c90-13d2-42c3-a29a-b4a62e8c65e5\",                        [{\"mode\": \"markers\", \"name\": \"Train\", \"type\": \"scatter3d\", \"x\": [4.0, 2.0, 9.2, 4.0, 5.3, 2.1, 3.0, 2.0, 5.4, 3.0, 5.0, 3.2, 2.0, 2.0, 8.0, 5.0, 1.0, 4.0, 3.4, 10.0, 2.5, 7.0], \"y\": [2, 0, 2, 4, 3, 0, 0, 4, 2, 4, 3, 0, 0, 4, 4, 0, 4, 4, 0, 4, 1, 2], \"z\": [27000, 17301, 40000, 26300, 27900, 17500, 19000, 18200, 35000, 19201, 28000, 18300, 18302, 17000, 36302, 33402, 15000, 25000, 20000, 42500, 18103, 35201]}, {\"mode\": \"markers\", \"name\": \"Test\", \"type\": \"scatter3d\", \"x\": [3.0, 10.0, 10.0, 8.0, 5.0, 10.0, 1.0, 6.0], \"y\": [4, 2, 3, 2, 0, 0, 1, 3], \"z\": [19000, 40000, 42500, 37000, 28000, 42000, 15000, 35201]}, {\"name\": \"predict\", \"type\": \"surface\", \"x\": [10.0, 8.0, 5.4, 2.5, 1.0, 8.0, 4.0, 6.0, 2.0, 10.0, 4.0, 7.0, 3.0, 5.0, 2.0, 5.0, 3.0, 2.0, 3.0, 2.0, 5.0, 3.4, 5.3, 2.1, 9.2, 10.0, 3.2, 10.0, 4.0, 1.0], \"y\": [4, 4, 2, 1, 4, 2, 4, 3, 0, 0, 2, 2, 4, 0, 4, 0, 4, 4, 0, 0, 3, 0, 3, 0, 2, 3, 0, 2, 4, 1], \"z\": [[44401.45041041419, 37761.14636097627, 29128.751096706987, 19500.310225022004, 14520.08218794357, 37761.14636097627, 24480.538262100443, 31120.84231153836, 17840.23421266253, 44401.45041041419, 24480.538262100443, 34440.99433625732, 21160.386237381485, 27800.6902868194, 17840.23421266253, 27800.6902868194, 21160.386237381485, 17840.23421266253, 21160.386237381485, 17840.23421266253, 27800.6902868194, 22488.447047269066, 28796.735894235087, 18172.249415134425, 41745.32879063902, 44401.45041041419, 21824.416642325275, 44401.45041041419, 24480.538262100443, 14520.08218794357], [44401.45041041419, 37761.14636097627, 29128.751096706987, 19500.310225022004, 14520.08218794357, 37761.14636097627, 24480.538262100443, 31120.84231153836, 17840.23421266253, 44401.45041041419, 24480.538262100443, 34440.99433625732, 21160.386237381485, 27800.6902868194, 17840.23421266253, 27800.6902868194, 21160.386237381485, 17840.23421266253, 21160.386237381485, 17840.23421266253, 27800.6902868194, 22488.447047269066, 28796.735894235087, 18172.249415134425, 41745.32879063902, 44401.45041041419, 21824.416642325275, 44401.45041041419, 24480.538262100443, 14520.08218794357], [44353.030064449486, 37712.726015011576, 29080.330750742283, 19451.889879057304, 14471.661841978868, 37712.726015011576, 24432.117916135743, 31072.421965573656, 17791.813866697827, 44353.030064449486, 24432.117916135743, 34392.573990292614, 21111.96589141678, 27752.269940854698, 17791.813866697827, 27752.269940854698, 21111.96589141678, 17791.813866697827, 21111.96589141678, 17791.813866697827, 27752.269940854698, 22440.026701304367, 28748.315548270384, 18123.829069169722, 41696.90844467432, 44353.030064449486, 21775.996296360576, 44353.030064449486, 24432.117916135743, 14471.661841978868], [44328.81989146713, 37688.51584202922, 29056.12057775993, 19427.679706074952, 14447.451668996517, 37688.51584202922, 24407.907743153388, 31048.211792591304, 17767.603693715475, 44328.81989146713, 24407.907743153388, 34368.363817310266, 21087.755718434433, 27728.059767872346, 17767.603693715475, 27728.059767872346, 21087.755718434433, 17767.603693715475, 21087.755718434433, 17767.603693715475, 27728.059767872346, 22415.816528322015, 28724.105375288033, 18099.61889618737, 41672.69827169197, 44328.81989146713, 21751.786123378224, 44328.81989146713, 24407.907743153388, 14447.451668996517], [44401.45041041419, 37761.14636097627, 29128.751096706987, 19500.310225022004, 14520.08218794357, 37761.14636097627, 24480.538262100443, 31120.84231153836, 17840.23421266253, 44401.45041041419, 24480.538262100443, 34440.99433625732, 21160.386237381485, 27800.6902868194, 17840.23421266253, 27800.6902868194, 21160.386237381485, 17840.23421266253, 21160.386237381485, 17840.23421266253, 27800.6902868194, 22488.447047269066, 28796.735894235087, 18172.249415134425, 41745.32879063902, 44401.45041041419, 21824.416642325275, 44401.45041041419, 24480.538262100443, 14520.08218794357], [44353.030064449486, 37712.726015011576, 29080.330750742283, 19451.889879057304, 14471.661841978868, 37712.726015011576, 24432.117916135743, 31072.421965573656, 17791.813866697827, 44353.030064449486, 24432.117916135743, 34392.573990292614, 21111.96589141678, 27752.269940854698, 17791.813866697827, 27752.269940854698, 21111.96589141678, 17791.813866697827, 21111.96589141678, 17791.813866697827, 27752.269940854698, 22440.026701304367, 28748.315548270384, 18123.829069169722, 41696.90844467432, 44353.030064449486, 21775.996296360576, 44353.030064449486, 24432.117916135743, 14471.661841978868], [44401.45041041419, 37761.14636097627, 29128.751096706987, 19500.310225022004, 14520.08218794357, 37761.14636097627, 24480.538262100443, 31120.84231153836, 17840.23421266253, 44401.45041041419, 24480.538262100443, 34440.99433625732, 21160.386237381485, 27800.6902868194, 17840.23421266253, 27800.6902868194, 21160.386237381485, 17840.23421266253, 21160.386237381485, 17840.23421266253, 27800.6902868194, 22488.447047269066, 28796.735894235087, 18172.249415134425, 41745.32879063902, 44401.45041041419, 21824.416642325275, 44401.45041041419, 24480.538262100443, 14520.08218794357], [44377.24023743183, 37736.936187993924, 29104.540923724635, 19476.100052039656, 14495.872014961218, 37736.936187993924, 24456.32808911809, 31096.632138556008, 17816.024039680175, 44377.24023743183, 24456.32808911809, 34416.78416327496, 21136.176064399137, 27776.48011383705, 17816.024039680175, 27776.48011383705, 21136.176064399137, 17816.024039680175, 21136.176064399137, 17816.024039680175, 27776.48011383705, 22464.23687428672, 28772.525721252736, 18148.039242152074, 41721.11861765667, 44377.24023743183, 21800.206469342927, 44377.24023743183, 24456.32808911809, 14495.872014961218], [44304.60971848478, 37664.305669046866, 29031.91040477758, 19403.4695330926, 14423.241496014165, 37664.305669046866, 24383.69757017104, 31024.001619608953, 17743.393520733123, 44304.60971848478, 24383.69757017104, 34344.15364432791, 21063.545545452078, 27703.849594889994, 17743.393520733123, 27703.849594889994, 21063.545545452078, 17743.393520733123, 21063.545545452078, 17743.393520733123, 27703.849594889994, 22391.606355339663, 28699.89520230568, 18075.40872320502, 41648.48809870961, 44304.60971848478, 21727.575950395872, 44304.60971848478, 24383.69757017104, 14423.241496014165], [44304.60971848478, 37664.305669046866, 29031.91040477758, 19403.4695330926, 14423.241496014165, 37664.305669046866, 24383.69757017104, 31024.001619608953, 17743.393520733123, 44304.60971848478, 24383.69757017104, 34344.15364432791, 21063.545545452078, 27703.849594889994, 17743.393520733123, 27703.849594889994, 21063.545545452078, 17743.393520733123, 21063.545545452078, 17743.393520733123, 27703.849594889994, 22391.606355339663, 28699.89520230568, 18075.40872320502, 41648.48809870961, 44304.60971848478, 21727.575950395872, 44304.60971848478, 24383.69757017104, 14423.241496014165], [44353.030064449486, 37712.726015011576, 29080.330750742283, 19451.889879057304, 14471.661841978868, 37712.726015011576, 24432.117916135743, 31072.421965573656, 17791.813866697827, 44353.030064449486, 24432.117916135743, 34392.573990292614, 21111.96589141678, 27752.269940854698, 17791.813866697827, 27752.269940854698, 21111.96589141678, 17791.813866697827, 21111.96589141678, 17791.813866697827, 27752.269940854698, 22440.026701304367, 28748.315548270384, 18123.829069169722, 41696.90844467432, 44353.030064449486, 21775.996296360576, 44353.030064449486, 24432.117916135743, 14471.661841978868], [44353.030064449486, 37712.726015011576, 29080.330750742283, 19451.889879057304, 14471.661841978868, 37712.726015011576, 24432.117916135743, 31072.421965573656, 17791.813866697827, 44353.030064449486, 24432.117916135743, 34392.573990292614, 21111.96589141678, 27752.269940854698, 17791.813866697827, 27752.269940854698, 21111.96589141678, 17791.813866697827, 21111.96589141678, 17791.813866697827, 27752.269940854698, 22440.026701304367, 28748.315548270384, 18123.829069169722, 41696.90844467432, 44353.030064449486, 21775.996296360576, 44353.030064449486, 24432.117916135743, 14471.661841978868], [44401.45041041419, 37761.14636097627, 29128.751096706987, 19500.310225022004, 14520.08218794357, 37761.14636097627, 24480.538262100443, 31120.84231153836, 17840.23421266253, 44401.45041041419, 24480.538262100443, 34440.99433625732, 21160.386237381485, 27800.6902868194, 17840.23421266253, 27800.6902868194, 21160.386237381485, 17840.23421266253, 21160.386237381485, 17840.23421266253, 27800.6902868194, 22488.447047269066, 28796.735894235087, 18172.249415134425, 41745.32879063902, 44401.45041041419, 21824.416642325275, 44401.45041041419, 24480.538262100443, 14520.08218794357], [44304.60971848478, 37664.305669046866, 29031.91040477758, 19403.4695330926, 14423.241496014165, 37664.305669046866, 24383.69757017104, 31024.001619608953, 17743.393520733123, 44304.60971848478, 24383.69757017104, 34344.15364432791, 21063.545545452078, 27703.849594889994, 17743.393520733123, 27703.849594889994, 21063.545545452078, 17743.393520733123, 21063.545545452078, 17743.393520733123, 27703.849594889994, 22391.606355339663, 28699.89520230568, 18075.40872320502, 41648.48809870961, 44304.60971848478, 21727.575950395872, 44304.60971848478, 24383.69757017104, 14423.241496014165], [44401.45041041419, 37761.14636097627, 29128.751096706987, 19500.310225022004, 14520.08218794357, 37761.14636097627, 24480.538262100443, 31120.84231153836, 17840.23421266253, 44401.45041041419, 24480.538262100443, 34440.99433625732, 21160.386237381485, 27800.6902868194, 17840.23421266253, 27800.6902868194, 21160.386237381485, 17840.23421266253, 21160.386237381485, 17840.23421266253, 27800.6902868194, 22488.447047269066, 28796.735894235087, 18172.249415134425, 41745.32879063902, 44401.45041041419, 21824.416642325275, 44401.45041041419, 24480.538262100443, 14520.08218794357], [44304.60971848478, 37664.305669046866, 29031.91040477758, 19403.4695330926, 14423.241496014165, 37664.305669046866, 24383.69757017104, 31024.001619608953, 17743.393520733123, 44304.60971848478, 24383.69757017104, 34344.15364432791, 21063.545545452078, 27703.849594889994, 17743.393520733123, 27703.849594889994, 21063.545545452078, 17743.393520733123, 21063.545545452078, 17743.393520733123, 27703.849594889994, 22391.606355339663, 28699.89520230568, 18075.40872320502, 41648.48809870961, 44304.60971848478, 21727.575950395872, 44304.60971848478, 24383.69757017104, 14423.241496014165], [44401.45041041419, 37761.14636097627, 29128.751096706987, 19500.310225022004, 14520.08218794357, 37761.14636097627, 24480.538262100443, 31120.84231153836, 17840.23421266253, 44401.45041041419, 24480.538262100443, 34440.99433625732, 21160.386237381485, 27800.6902868194, 17840.23421266253, 27800.6902868194, 21160.386237381485, 17840.23421266253, 21160.386237381485, 17840.23421266253, 27800.6902868194, 22488.447047269066, 28796.735894235087, 18172.249415134425, 41745.32879063902, 44401.45041041419, 21824.416642325275, 44401.45041041419, 24480.538262100443, 14520.08218794357], [44401.45041041419, 37761.14636097627, 29128.751096706987, 19500.310225022004, 14520.08218794357, 37761.14636097627, 24480.538262100443, 31120.84231153836, 17840.23421266253, 44401.45041041419, 24480.538262100443, 34440.99433625732, 21160.386237381485, 27800.6902868194, 17840.23421266253, 27800.6902868194, 21160.386237381485, 17840.23421266253, 21160.386237381485, 17840.23421266253, 27800.6902868194, 22488.447047269066, 28796.735894235087, 18172.249415134425, 41745.32879063902, 44401.45041041419, 21824.416642325275, 44401.45041041419, 24480.538262100443, 14520.08218794357], [44304.60971848478, 37664.305669046866, 29031.91040477758, 19403.4695330926, 14423.241496014165, 37664.305669046866, 24383.69757017104, 31024.001619608953, 17743.393520733123, 44304.60971848478, 24383.69757017104, 34344.15364432791, 21063.545545452078, 27703.849594889994, 17743.393520733123, 27703.849594889994, 21063.545545452078, 17743.393520733123, 21063.545545452078, 17743.393520733123, 27703.849594889994, 22391.606355339663, 28699.89520230568, 18075.40872320502, 41648.48809870961, 44304.60971848478, 21727.575950395872, 44304.60971848478, 24383.69757017104, 14423.241496014165], [44304.60971848478, 37664.305669046866, 29031.91040477758, 19403.4695330926, 14423.241496014165, 37664.305669046866, 24383.69757017104, 31024.001619608953, 17743.393520733123, 44304.60971848478, 24383.69757017104, 34344.15364432791, 21063.545545452078, 27703.849594889994, 17743.393520733123, 27703.849594889994, 21063.545545452078, 17743.393520733123, 21063.545545452078, 17743.393520733123, 27703.849594889994, 22391.606355339663, 28699.89520230568, 18075.40872320502, 41648.48809870961, 44304.60971848478, 21727.575950395872, 44304.60971848478, 24383.69757017104, 14423.241496014165], [44377.24023743183, 37736.936187993924, 29104.540923724635, 19476.100052039656, 14495.872014961218, 37736.936187993924, 24456.32808911809, 31096.632138556008, 17816.024039680175, 44377.24023743183, 24456.32808911809, 34416.78416327496, 21136.176064399137, 27776.48011383705, 17816.024039680175, 27776.48011383705, 21136.176064399137, 17816.024039680175, 21136.176064399137, 17816.024039680175, 27776.48011383705, 22464.23687428672, 28772.525721252736, 18148.039242152074, 41721.11861765667, 44377.24023743183, 21800.206469342927, 44377.24023743183, 24456.32808911809, 14495.872014961218], [44304.60971848478, 37664.305669046866, 29031.91040477758, 19403.4695330926, 14423.241496014165, 37664.305669046866, 24383.69757017104, 31024.001619608953, 17743.393520733123, 44304.60971848478, 24383.69757017104, 34344.15364432791, 21063.545545452078, 27703.849594889994, 17743.393520733123, 27703.849594889994, 21063.545545452078, 17743.393520733123, 21063.545545452078, 17743.393520733123, 27703.849594889994, 22391.606355339663, 28699.89520230568, 18075.40872320502, 41648.48809870961, 44304.60971848478, 21727.575950395872, 44304.60971848478, 24383.69757017104, 14423.241496014165], [44377.24023743183, 37736.936187993924, 29104.540923724635, 19476.100052039656, 14495.872014961218, 37736.936187993924, 24456.32808911809, 31096.632138556008, 17816.024039680175, 44377.24023743183, 24456.32808911809, 34416.78416327496, 21136.176064399137, 27776.48011383705, 17816.024039680175, 27776.48011383705, 21136.176064399137, 17816.024039680175, 21136.176064399137, 17816.024039680175, 27776.48011383705, 22464.23687428672, 28772.525721252736, 18148.039242152074, 41721.11861765667, 44377.24023743183, 21800.206469342927, 44377.24023743183, 24456.32808911809, 14495.872014961218], [44304.60971848478, 37664.305669046866, 29031.91040477758, 19403.4695330926, 14423.241496014165, 37664.305669046866, 24383.69757017104, 31024.001619608953, 17743.393520733123, 44304.60971848478, 24383.69757017104, 34344.15364432791, 21063.545545452078, 27703.849594889994, 17743.393520733123, 27703.849594889994, 21063.545545452078, 17743.393520733123, 21063.545545452078, 17743.393520733123, 27703.849594889994, 22391.606355339663, 28699.89520230568, 18075.40872320502, 41648.48809870961, 44304.60971848478, 21727.575950395872, 44304.60971848478, 24383.69757017104, 14423.241496014165], [44353.030064449486, 37712.726015011576, 29080.330750742283, 19451.889879057304, 14471.661841978868, 37712.726015011576, 24432.117916135743, 31072.421965573656, 17791.813866697827, 44353.030064449486, 24432.117916135743, 34392.573990292614, 21111.96589141678, 27752.269940854698, 17791.813866697827, 27752.269940854698, 21111.96589141678, 17791.813866697827, 21111.96589141678, 17791.813866697827, 27752.269940854698, 22440.026701304367, 28748.315548270384, 18123.829069169722, 41696.90844467432, 44353.030064449486, 21775.996296360576, 44353.030064449486, 24432.117916135743, 14471.661841978868], [44377.24023743183, 37736.936187993924, 29104.540923724635, 19476.100052039656, 14495.872014961218, 37736.936187993924, 24456.32808911809, 31096.632138556008, 17816.024039680175, 44377.24023743183, 24456.32808911809, 34416.78416327496, 21136.176064399137, 27776.48011383705, 17816.024039680175, 27776.48011383705, 21136.176064399137, 17816.024039680175, 21136.176064399137, 17816.024039680175, 27776.48011383705, 22464.23687428672, 28772.525721252736, 18148.039242152074, 41721.11861765667, 44377.24023743183, 21800.206469342927, 44377.24023743183, 24456.32808911809, 14495.872014961218], [44304.60971848478, 37664.305669046866, 29031.91040477758, 19403.4695330926, 14423.241496014165, 37664.305669046866, 24383.69757017104, 31024.001619608953, 17743.393520733123, 44304.60971848478, 24383.69757017104, 34344.15364432791, 21063.545545452078, 27703.849594889994, 17743.393520733123, 27703.849594889994, 21063.545545452078, 17743.393520733123, 21063.545545452078, 17743.393520733123, 27703.849594889994, 22391.606355339663, 28699.89520230568, 18075.40872320502, 41648.48809870961, 44304.60971848478, 21727.575950395872, 44304.60971848478, 24383.69757017104, 14423.241496014165], [44353.030064449486, 37712.726015011576, 29080.330750742283, 19451.889879057304, 14471.661841978868, 37712.726015011576, 24432.117916135743, 31072.421965573656, 17791.813866697827, 44353.030064449486, 24432.117916135743, 34392.573990292614, 21111.96589141678, 27752.269940854698, 17791.813866697827, 27752.269940854698, 21111.96589141678, 17791.813866697827, 21111.96589141678, 17791.813866697827, 27752.269940854698, 22440.026701304367, 28748.315548270384, 18123.829069169722, 41696.90844467432, 44353.030064449486, 21775.996296360576, 44353.030064449486, 24432.117916135743, 14471.661841978868], [44401.45041041419, 37761.14636097627, 29128.751096706987, 19500.310225022004, 14520.08218794357, 37761.14636097627, 24480.538262100443, 31120.84231153836, 17840.23421266253, 44401.45041041419, 24480.538262100443, 34440.99433625732, 21160.386237381485, 27800.6902868194, 17840.23421266253, 27800.6902868194, 21160.386237381485, 17840.23421266253, 21160.386237381485, 17840.23421266253, 27800.6902868194, 22488.447047269066, 28796.735894235087, 18172.249415134425, 41745.32879063902, 44401.45041041419, 21824.416642325275, 44401.45041041419, 24480.538262100443, 14520.08218794357], [44328.81989146713, 37688.51584202922, 29056.12057775993, 19427.679706074952, 14447.451668996517, 37688.51584202922, 24407.907743153388, 31048.211792591304, 17767.603693715475, 44328.81989146713, 24407.907743153388, 34368.363817310266, 21087.755718434433, 27728.059767872346, 17767.603693715475, 27728.059767872346, 21087.755718434433, 17767.603693715475, 21087.755718434433, 17767.603693715475, 27728.059767872346, 22415.816528322015, 28724.105375288033, 18099.61889618737, 41672.69827169197, 44328.81989146713, 21751.786123378224, 44328.81989146713, 24407.907743153388, 14447.451668996517]]}],                        {\"template\": {\"data\": {\"bar\": [{\"error_x\": {\"color\": \"#2a3f5f\"}, \"error_y\": {\"color\": \"#2a3f5f\"}, \"marker\": {\"line\": {\"color\": \"#E5ECF6\", \"width\": 0.5}}, \"type\": \"bar\"}], \"barpolar\": [{\"marker\": {\"line\": {\"color\": \"#E5ECF6\", \"width\": 0.5}}, \"type\": \"barpolar\"}], \"carpet\": [{\"aaxis\": {\"endlinecolor\": \"#2a3f5f\", \"gridcolor\": \"white\", \"linecolor\": \"white\", \"minorgridcolor\": \"white\", \"startlinecolor\": \"#2a3f5f\"}, \"baxis\": {\"endlinecolor\": \"#2a3f5f\", \"gridcolor\": \"white\", \"linecolor\": \"white\", \"minorgridcolor\": \"white\", \"startlinecolor\": \"#2a3f5f\"}, \"type\": \"carpet\"}], \"choropleth\": [{\"colorbar\": {\"outlinewidth\": 0, \"ticks\": \"\"}, \"type\": \"choropleth\"}], \"contour\": [{\"colorbar\": {\"outlinewidth\": 0, \"ticks\": \"\"}, \"colorscale\": [[0.0, \"#0d0887\"], [0.1111111111111111, \"#46039f\"], [0.2222222222222222, \"#7201a8\"], [0.3333333333333333, \"#9c179e\"], [0.4444444444444444, \"#bd3786\"], [0.5555555555555556, \"#d8576b\"], [0.6666666666666666, \"#ed7953\"], [0.7777777777777778, \"#fb9f3a\"], [0.8888888888888888, \"#fdca26\"], [1.0, \"#f0f921\"]], \"type\": \"contour\"}], \"contourcarpet\": [{\"colorbar\": {\"outlinewidth\": 0, \"ticks\": \"\"}, \"type\": \"contourcarpet\"}], \"heatmap\": [{\"colorbar\": {\"outlinewidth\": 0, \"ticks\": \"\"}, \"colorscale\": [[0.0, \"#0d0887\"], [0.1111111111111111, \"#46039f\"], [0.2222222222222222, \"#7201a8\"], [0.3333333333333333, \"#9c179e\"], [0.4444444444444444, \"#bd3786\"], [0.5555555555555556, \"#d8576b\"], [0.6666666666666666, \"#ed7953\"], [0.7777777777777778, \"#fb9f3a\"], [0.8888888888888888, \"#fdca26\"], [1.0, \"#f0f921\"]], \"type\": \"heatmap\"}], \"heatmapgl\": [{\"colorbar\": {\"outlinewidth\": 0, \"ticks\": \"\"}, \"colorscale\": [[0.0, \"#0d0887\"], [0.1111111111111111, \"#46039f\"], [0.2222222222222222, \"#7201a8\"], [0.3333333333333333, \"#9c179e\"], [0.4444444444444444, \"#bd3786\"], [0.5555555555555556, \"#d8576b\"], [0.6666666666666666, \"#ed7953\"], [0.7777777777777778, \"#fb9f3a\"], [0.8888888888888888, \"#fdca26\"], [1.0, \"#f0f921\"]], \"type\": \"heatmapgl\"}], \"histogram\": [{\"marker\": {\"colorbar\": {\"outlinewidth\": 0, \"ticks\": \"\"}}, \"type\": \"histogram\"}], \"histogram2d\": [{\"colorbar\": {\"outlinewidth\": 0, \"ticks\": \"\"}, \"colorscale\": [[0.0, \"#0d0887\"], [0.1111111111111111, \"#46039f\"], [0.2222222222222222, \"#7201a8\"], [0.3333333333333333, \"#9c179e\"], [0.4444444444444444, \"#bd3786\"], [0.5555555555555556, \"#d8576b\"], [0.6666666666666666, \"#ed7953\"], [0.7777777777777778, \"#fb9f3a\"], [0.8888888888888888, \"#fdca26\"], [1.0, \"#f0f921\"]], \"type\": \"histogram2d\"}], \"histogram2dcontour\": [{\"colorbar\": {\"outlinewidth\": 0, \"ticks\": \"\"}, \"colorscale\": [[0.0, \"#0d0887\"], [0.1111111111111111, \"#46039f\"], [0.2222222222222222, \"#7201a8\"], [0.3333333333333333, \"#9c179e\"], [0.4444444444444444, \"#bd3786\"], [0.5555555555555556, \"#d8576b\"], [0.6666666666666666, \"#ed7953\"], [0.7777777777777778, \"#fb9f3a\"], [0.8888888888888888, \"#fdca26\"], [1.0, \"#f0f921\"]], \"type\": \"histogram2dcontour\"}], \"mesh3d\": [{\"colorbar\": {\"outlinewidth\": 0, \"ticks\": \"\"}, \"type\": \"mesh3d\"}], \"parcoords\": [{\"line\": {\"colorbar\": {\"outlinewidth\": 0, \"ticks\": \"\"}}, \"type\": \"parcoords\"}], \"pie\": [{\"automargin\": true, \"type\": \"pie\"}], \"scatter\": [{\"marker\": {\"colorbar\": {\"outlinewidth\": 0, \"ticks\": \"\"}}, \"type\": \"scatter\"}], \"scatter3d\": [{\"line\": {\"colorbar\": {\"outlinewidth\": 0, \"ticks\": \"\"}}, \"marker\": {\"colorbar\": {\"outlinewidth\": 0, \"ticks\": \"\"}}, \"type\": \"scatter3d\"}], \"scattercarpet\": [{\"marker\": {\"colorbar\": {\"outlinewidth\": 0, \"ticks\": \"\"}}, \"type\": \"scattercarpet\"}], \"scattergeo\": [{\"marker\": {\"colorbar\": {\"outlinewidth\": 0, \"ticks\": \"\"}}, \"type\": \"scattergeo\"}], \"scattergl\": [{\"marker\": {\"colorbar\": {\"outlinewidth\": 0, \"ticks\": \"\"}}, \"type\": \"scattergl\"}], \"scattermapbox\": [{\"marker\": {\"colorbar\": {\"outlinewidth\": 0, \"ticks\": \"\"}}, \"type\": \"scattermapbox\"}], \"scatterpolar\": [{\"marker\": {\"colorbar\": {\"outlinewidth\": 0, \"ticks\": \"\"}}, \"type\": \"scatterpolar\"}], \"scatterpolargl\": [{\"marker\": {\"colorbar\": {\"outlinewidth\": 0, \"ticks\": \"\"}}, \"type\": \"scatterpolargl\"}], \"scatterternary\": [{\"marker\": {\"colorbar\": {\"outlinewidth\": 0, \"ticks\": \"\"}}, \"type\": \"scatterternary\"}], \"surface\": [{\"colorbar\": {\"outlinewidth\": 0, \"ticks\": \"\"}, \"colorscale\": [[0.0, \"#0d0887\"], [0.1111111111111111, \"#46039f\"], [0.2222222222222222, \"#7201a8\"], [0.3333333333333333, \"#9c179e\"], [0.4444444444444444, \"#bd3786\"], [0.5555555555555556, \"#d8576b\"], [0.6666666666666666, \"#ed7953\"], [0.7777777777777778, \"#fb9f3a\"], [0.8888888888888888, \"#fdca26\"], [1.0, \"#f0f921\"]], \"type\": \"surface\"}], \"table\": [{\"cells\": {\"fill\": {\"color\": \"#EBF0F8\"}, \"line\": {\"color\": \"white\"}}, \"header\": {\"fill\": {\"color\": \"#C8D4E3\"}, \"line\": {\"color\": \"white\"}}, \"type\": \"table\"}]}, \"layout\": {\"annotationdefaults\": {\"arrowcolor\": \"#2a3f5f\", \"arrowhead\": 0, \"arrowwidth\": 1}, \"coloraxis\": {\"colorbar\": {\"outlinewidth\": 0, \"ticks\": \"\"}}, \"colorscale\": {\"diverging\": [[0, \"#8e0152\"], [0.1, \"#c51b7d\"], [0.2, \"#de77ae\"], [0.3, \"#f1b6da\"], [0.4, \"#fde0ef\"], [0.5, \"#f7f7f7\"], [0.6, \"#e6f5d0\"], [0.7, \"#b8e186\"], [0.8, \"#7fbc41\"], [0.9, \"#4d9221\"], [1, \"#276419\"]], \"sequential\": [[0.0, \"#0d0887\"], [0.1111111111111111, \"#46039f\"], [0.2222222222222222, \"#7201a8\"], [0.3333333333333333, \"#9c179e\"], [0.4444444444444444, \"#bd3786\"], [0.5555555555555556, \"#d8576b\"], [0.6666666666666666, \"#ed7953\"], [0.7777777777777778, \"#fb9f3a\"], [0.8888888888888888, \"#fdca26\"], [1.0, \"#f0f921\"]], \"sequentialminus\": [[0.0, \"#0d0887\"], [0.1111111111111111, \"#46039f\"], [0.2222222222222222, \"#7201a8\"], [0.3333333333333333, \"#9c179e\"], [0.4444444444444444, \"#bd3786\"], [0.5555555555555556, \"#d8576b\"], [0.6666666666666666, \"#ed7953\"], [0.7777777777777778, \"#fb9f3a\"], [0.8888888888888888, \"#fdca26\"], [1.0, \"#f0f921\"]]}, \"colorway\": [\"#636efa\", \"#EF553B\", \"#00cc96\", \"#ab63fa\", \"#FFA15A\", \"#19d3f3\", \"#FF6692\", \"#B6E880\", \"#FF97FF\", \"#FECB52\"], \"font\": {\"color\": \"#2a3f5f\"}, \"geo\": {\"bgcolor\": \"white\", \"lakecolor\": \"white\", \"landcolor\": \"#E5ECF6\", \"showlakes\": true, \"showland\": true, \"subunitcolor\": \"white\"}, \"hoverlabel\": {\"align\": \"left\"}, \"hovermode\": \"closest\", \"mapbox\": {\"style\": \"light\"}, \"paper_bgcolor\": \"white\", \"plot_bgcolor\": \"#E5ECF6\", \"polar\": {\"angularaxis\": {\"gridcolor\": \"white\", \"linecolor\": \"white\", \"ticks\": \"\"}, \"bgcolor\": \"#E5ECF6\", \"radialaxis\": {\"gridcolor\": \"white\", \"linecolor\": \"white\", \"ticks\": \"\"}}, \"scene\": {\"xaxis\": {\"backgroundcolor\": \"#E5ECF6\", \"gridcolor\": \"white\", \"gridwidth\": 2, \"linecolor\": \"white\", \"showbackground\": true, \"ticks\": \"\", \"zerolinecolor\": \"white\"}, \"yaxis\": {\"backgroundcolor\": \"#E5ECF6\", \"gridcolor\": \"white\", \"gridwidth\": 2, \"linecolor\": \"white\", \"showbackground\": true, \"ticks\": \"\", \"zerolinecolor\": \"white\"}, \"zaxis\": {\"backgroundcolor\": \"#E5ECF6\", \"gridcolor\": \"white\", \"gridwidth\": 2, \"linecolor\": \"white\", \"showbackground\": true, \"ticks\": \"\", \"zerolinecolor\": \"white\"}}, \"shapedefaults\": {\"line\": {\"color\": \"#2a3f5f\"}}, \"ternary\": {\"aaxis\": {\"gridcolor\": \"white\", \"linecolor\": \"white\", \"ticks\": \"\"}, \"baxis\": {\"gridcolor\": \"white\", \"linecolor\": \"white\", \"ticks\": \"\"}, \"bgcolor\": \"#E5ECF6\", \"caxis\": {\"gridcolor\": \"white\", \"linecolor\": \"white\", \"ticks\": \"\"}}, \"title\": {\"x\": 0.05}, \"xaxis\": {\"automargin\": true, \"gridcolor\": \"white\", \"linecolor\": \"white\", \"ticks\": \"\", \"title\": {\"standoff\": 15}, \"zerolinecolor\": \"white\", \"zerolinewidth\": 2}, \"yaxis\": {\"automargin\": true, \"gridcolor\": \"white\", \"linecolor\": \"white\", \"ticks\": \"\", \"title\": {\"standoff\": 15}, \"zerolinecolor\": \"white\", \"zerolinewidth\": 2}}}},                        {\"responsive\": true}                    ).then(function(){\n",
       "                            \n",
       "var gd = document.getElementById('c8ec7c90-13d2-42c3-a29a-b4a62e8c65e5');\n",
       "var x = new MutationObserver(function (mutations, observer) {{\n",
       "        var display = window.getComputedStyle(gd).display;\n",
       "        if (!display || display === 'none') {{\n",
       "            console.log([gd, 'removed!']);\n",
       "            Plotly.purge(gd);\n",
       "            observer.disconnect();\n",
       "        }}\n",
       "}});\n",
       "\n",
       "// Listen for the removal of the full notebook cells\n",
       "var notebookContainer = gd.closest('#notebook-container');\n",
       "if (notebookContainer) {{\n",
       "    x.observe(notebookContainer, {childList: true});\n",
       "}}\n",
       "\n",
       "// Listen for the clearing of the current output cell\n",
       "var outputEl = gd.closest('.output');\n",
       "if (outputEl) {{\n",
       "    x.observe(outputEl, {childList: true});\n",
       "}}\n",
       "\n",
       "                        })                };                });            </script>        </div>"
      ]
     },
     "metadata": {},
     "output_type": "display_data"
    }
   ],
   "source": [
    "fig = go.Figure([\n",
    "    go.Scatter3d(x= X_train['Aexperiencia'], y= X_train['pais'], z= Y_train, name='Train', mode ='markers'),\n",
    "    go.Scatter3d(x= X_test['Aexperiencia'], y= X_test['pais'], z= Y_test, name='Test', mode ='markers'),\n",
    "    go.Surface(x= x_range, y= y_range, z= pred, name='predict')\n",
    "])\n",
    "fig.show()"
   ]
  }
 ],
 "metadata": {
  "kernelspec": {
   "display_name": "Python 3",
   "language": "python",
   "name": "python3"
  },
  "language_info": {
   "codemirror_mode": {
    "name": "ipython",
    "version": 3
   },
   "file_extension": ".py",
   "mimetype": "text/x-python",
   "name": "python",
   "nbconvert_exporter": "python",
   "pygments_lexer": "ipython3",
   "version": "3.8.3"
  }
 },
 "nbformat": 4,
 "nbformat_minor": 4
}
